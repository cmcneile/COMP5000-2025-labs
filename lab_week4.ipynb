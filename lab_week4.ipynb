{
 "cells": [
  {
   "cell_type": "markdown",
   "id": "8c5f9f59",
   "metadata": {},
   "source": [
    "# Computer Lab Exercises week 4"
   ]
  },
  {
   "cell_type": "markdown",
   "id": "b3f4f1ea",
   "metadata": {},
   "source": [
    "* These lab exercises give practice in using regular expressions.  https://www.w3schools.com/python/python_regex.asp\n",
    "* These exercises are **not** part of the assessment of the Module.\n",
    "* I will post the solutions roughly 1 week after this file has been uploaded to the DLE.\n",
    "* Please note that pasting python from pdf can sometimes cause problems. For example quotation marks can sometimes be converted incorrectly, so then running python will cause errors.\n",
    "\n",
    "* See https://sites.google.com/view/pythonforstemstudents/home for a collection of links to information on python.\n"
   ]
  },
  {
   "cell_type": "markdown",
   "id": "02870ebd",
   "metadata": {},
   "source": [
    "##  Question 0) Some more manipulation of string\n",
    "\n",
    "Use the join string function (https://www.w3schools.com/python/ref_string_join.asp) to combine the list of strings into one single string that is printed out  \n"
   ]
  },
  {
   "cell_type": "code",
   "execution_count": 1,
   "id": "43658121",
   "metadata": {},
   "outputs": [],
   "source": [
    "store = [ \"The\",  \"future\" , \"of\" , \"money\" , \"is\" , \"bitcoin\" ] "
   ]
  },
  {
   "cell_type": "markdown",
   "id": "b590af38",
   "metadata": {},
   "source": [
    "The output should be\n",
    "\n",
    "The future of money is bitcoin"
   ]
  },
  {
   "cell_type": "markdown",
   "id": "1651e2f2",
   "metadata": {},
   "source": [
    "## Question 1a)\n",
    "\n",
    "* Modify the script so that the search for the word **hot** is at the end of the string. \n",
    "\n",
    "Before you start the exercises you may find working through the following tutorials.\n",
    "\n",
    "* Python RegEx https://www.w3schools.com/python/python_regex.asp\n"
   ]
  },
  {
   "cell_type": "code",
   "execution_count": 2,
   "id": "95d990cc",
   "metadata": {},
   "outputs": [],
   "source": [
    "import re\n",
    "xxx =  \"The mustard was very hot\"\n",
    "\n",
    "if re.search(\"cold\", xxx) :\n",
    "    print(xxx)\n"
   ]
  },
  {
   "cell_type": "markdown",
   "id": "0bb4f636",
   "metadata": {},
   "source": [
    "## Question 1b)\n",
    "\n",
    "* Create a regular expression that matches a credit card number of  1234-5678-9000-1101 \n",
    "* The check should match for the **OK** numbers and fail for the **FAIL** numbers\n",
    "\n",
    "The output should look like:\n",
    "<pre>\n",
    "The format is correct for  1234-5678-9000-1101\n",
    "The format is correct for  1224-5172-9304-1121\n",
    "1245 5619 2722 7890 is not a credit card number\n",
    "121563921227241 is not a credit card number\n",
    "</pre>\n"
   ]
  },
  {
   "cell_type": "code",
   "execution_count": 3,
   "id": "8f026cfb",
   "metadata": {},
   "outputs": [],
   "source": [
    "# Put your solution here\n",
    "credit_numberA = \"1234-5678-9000-1101\"  # OK\n",
    "credit_numberB = \"1224-5172-9304-1121\"  # OK\n",
    "\n",
    "not_credit_numberA = \"1245 5619 2722 7890\" # FAIL\n",
    "not_credit_numberB = \"121563921227241\" # FAIL\n"
   ]
  },
  {
   "cell_type": "code",
   "execution_count": null,
   "id": "8cba37cd",
   "metadata": {},
   "outputs": [],
   "source": []
  },
  {
   "cell_type": "markdown",
   "id": "87b28ff0",
   "metadata": {},
   "source": [
    "##  Question 2\n"
   ]
  },
  {
   "cell_type": "markdown",
   "id": "87e2b291",
   "metadata": {},
   "source": [
    "This exercise is an example of using regular expressions to \n",
    "match parts of strings. The python code below prints \n",
    "out part of the wikipedia page for Devon.\n",
    "\n",
    "I am asking you to use regular expressions\n",
    "(see https://www.tutorialspoint.com/python/python_reg_expressions.htm\n",
    "and the lecture notes) to find the line number, which match conditions.\n",
    "\n",
    "* Q1 Print the line, which starts with **To**.\n",
    "* Q2 Print the line, which ends with **hilly**.\n",
    "* Q3 Select the line with numbers on it.\n",
    "* Q4 Select the line with two and.\n",
    "\n",
    "As an example I show Q0 which matches **granite**"
   ]
  },
  {
   "cell_type": "code",
   "execution_count": 4,
   "id": "af2144f8",
   "metadata": {},
   "outputs": [
    {
     "name": "stdout",
     "output_type": "stream",
     "text": [
      "line[ 0 ]= The north and south coasts of Devon each have both cliffs and sandy shores.\n",
      "line[ 1 ]= The inland terrain is rural, and generally hilly.\n",
      "line[ 2 ]= Dartmoor is the largest open space in southern England, at 954 km2 (368 square miles).\n",
      "line[ 3 ]= Its moorland extends across a large expanse of granite bedrock.\n",
      "Answer to question 0 on line  3\n",
      "line[ 4 ]= To the north of Dartmoor are the Culm Measures and Exmoor.\n",
      "line[ 5 ]= In the valleys and lowlands of south and east Devon the soil is more fertile.\n"
     ]
    }
   ],
   "source": [
    "import re\n",
    "\n",
    "data = [ \"The north and south coasts of Devon each have both cliffs and sandy shores.\" , \n",
    "    \"The inland terrain is rural, and generally hilly.\",\n",
    "    \"Dartmoor is the largest open space in southern England, at 954 km2 (368 square miles).\",\n",
    "    \"Its moorland extends across a large expanse of granite bedrock.\",\n",
    "    \"To the north of Dartmoor are the Culm Measures and Exmoor.\",   \n",
    "    \"In the valleys and lowlands of south and east Devon the soil is more fertile.\"\n",
    " ] \n",
    "\n",
    "for count,xxx in enumerate(data) :\n",
    "   print(\"line[\", count, \"]=\",  xxx) \n",
    "   if re.search(\"granite\", xxx)  :\n",
    "       print(\"Answer to question 0 on line \", count)"
   ]
  },
  {
   "cell_type": "markdown",
   "id": "a2e3f8b1",
   "metadata": {},
   "source": [
    "The output from my code is:\n",
    "<pre>\n",
    "line[ 0 ]= The north and south coasts of Devon each have both cliffs and sandy shores.\n",
    "Answer to question 4 on line  0\n",
    "line[ 1 ]= The inland terrain is rural, and generally hilly.\n",
    "Answer to question 2 on line  1\n",
    "line[ 2 ]= Dartmoor is the largest open space in southern England, at 954 km2 (368 square miles).\n",
    "Answer to question 3 on line  2\n",
    "line[ 3 ]= Its moorland extends across a large expanse of granite bedrock.\n",
    "line[ 4 ]= To the north of Dartmoor are the Culm Measures and Exmoor.\n",
    "Answer to question 1 on line  4\n",
    "line[ 5 ]= In the valleys and lowlands of south and east Devon the soil is more fertile.\n",
    "Answer to question 4 on line  5\n",
    "</pre>\n"
   ]
  },
  {
   "cell_type": "markdown",
   "id": "fbc8e4c7",
   "metadata": {},
   "source": [
    "I recommend you also explore using the wikipedia module\n",
    "https://stackabuse.com/getting-started-with-pythons-wikipedia-api/\n",
    "to download content from Wikipedia. This is NOT part of the exercise,\n",
    "but it is the natural next step."
   ]
  },
  {
   "cell_type": "markdown",
   "id": "14058659",
   "metadata": {},
   "source": [
    "##  Question 3 (more regular expressions)\n",
    "* The example below is a python script to extract email addresses from the string **input**\n",
    "* Unfortunately the script only finds two emails\n",
    "* Modify the script to extract all the emails.\n",
    "* I would start by understanding the regular expression in **findall**"
   ]
  },
  {
   "cell_type": "code",
   "execution_count": 5,
   "id": "b420368b",
   "metadata": {},
   "outputs": [
    {
     "name": "stdout",
     "output_type": "stream",
     "text": [
      "--------------------------------------------------\n",
      "\n",
      "My main email is yyy.dong@plymouth.ac.uk\n",
      "I have three other emails richard.gggg@plymouth.ac.uk , gggg@gmail.com\n",
      "jjj@hotmail.com\n",
      "My personal email is gig@yahoo.com\n",
      "\n",
      "--------------------------------------------------\n",
      "Extracted emails\n",
      "yyy.dong@plymouth.ac.uk\n",
      "richard.gggg@plymouth.ac.uk\n"
     ]
    }
   ],
   "source": [
    "import re\n",
    "\n",
    "my_text = \"\"\"\n",
    "My main email is yyy.dong@plymouth.ac.uk\n",
    "I have three other emails richard.gggg@plymouth.ac.uk , gggg@gmail.com\n",
    "jjj@hotmail.com\n",
    "My personal email is gig@yahoo.com\n",
    "\"\"\"\n",
    "print(\"--------------------------------------------------\")\n",
    "print(my_text)\n",
    "print(\"--------------------------------------------------\")\n",
    "\n",
    "# modify this line\n",
    "email_list = re.findall(r'\\b\\w*\\.\\w*@\\w*\\.\\w*.\\w*\\b' , my_text)\n",
    "\n",
    "print(\"Extracted emails\")\n",
    "for email in email_list :\n",
    "    print(email) "
   ]
  },
  {
   "cell_type": "markdown",
   "id": "c73e57e9",
   "metadata": {},
   "source": [
    "The goal is use regular expressions to extract all the email\n",
    "addresses in a string variable.\n",
    "\n",
    "This exercise is an example of using regular expressions to \n",
    "match parts of strings. The above python code extracts some\n",
    "of the email addresses from the string **input**.\n",
    "The regular expression matches emails of the form:\n",
    "letters-or-numbers.letters-or-numberse@letters-or-numbers.letters-or-numbers.letters-or-numbers .\n",
    "The command \"\\b\" matches the spacing between words.\n",
    "\n",
    "The current python code does not extract all the email addresses, so\n",
    "the task is to modify the regular expression so that the python\n",
    "extracts all the email addresses. See\n",
    "https://www.tutorialspoint.com/python/python_reg_expressions.htm\n",
    "and the lecture notes.\n",
    "\n"
   ]
  },
  {
   "cell_type": "markdown",
   "id": "eba0beff",
   "metadata": {},
   "source": [
    "## Question  4  (Harder)\n",
    "*  The csv file resources_69441989-dac6-4a8e-92e3-6d1dbe93fd2b_devon-businesses.csv contains information about Devon companies. The file is available on the DLE.\n",
    "*  The data set is from  https://plymouth.thedata.place/dataset/devon-businesses \n",
    "\n",
    "The exercise is to check the post codes in the csv file. For example the enteries in column **RegAddress.PostCode**  and column **Pcodelookup**. \n",
    "\n",
    "* Modify the code below so that the **CompanyNumber** number is printed out if the **RegAddress.PostCode** and **Pcodelookup** are different (after removing any spaces). \n",
    "\n",
    "* Also print out the **CompanyNumber** when the postcode is not in the correct format. https://ideal-postcodes.co.uk/guides/uk-postcode-format To simplify the problem just assume that the postcode is a combination of letters and numbers.\n",
    "\n",
    "\n",
    "Just for information you can look up information about companies using  https://find-and-update.company-information.service.gov.uk/?_ga=2.26241021.174329778.1666023410-664048164.1666023410"
   ]
  },
  {
   "cell_type": "code",
   "execution_count": 6,
   "id": "e068ec80",
   "metadata": {},
   "outputs": [
    {
     "name": "stdout",
     "output_type": "stream",
     "text": [
      "Readng the data from  resources_69441989-dac6-4a8e-92e3-6d1dbe93fd2b_devon-businesses.csv\n",
      "---------------\n",
      "The number of mismatched postcodes  0\n",
      "Incorrect postcode format\n"
     ]
    }
   ],
   "source": [
    "# Modify this code\n",
    "import csv\n",
    "import re\n",
    "name = \"resources_69441989-dac6-4a8e-92e3-6d1dbe93fd2b_devon-businesses.csv\"\n",
    "print(\"Readng the data from \" , name)\n",
    "\n",
    "count = 0 \n",
    "store = []\n",
    "with open(name,encoding=\"ISO-8859-1\") as csvfile:\n",
    "    readCSV = csv.reader(csvfile, delimiter=',')\n",
    "    next(readCSV) \n",
    "    for row in readCSV:\n",
    "\n",
    "                    company_no     = row[0]\n",
    "                    postcode       = row[6]\n",
    "                    postcode_regen = row[18]\n",
    "\n",
    "\n",
    "print(\"---------------\")\n",
    "\n",
    "print(\"The number of mismatched postcodes \" , count)\n",
    "print(\"Incorrect postcode format\")\n",
    "store.sort()\n",
    "for ss in store :\n",
    "    print(ss)"
   ]
  },
  {
   "cell_type": "markdown",
   "id": "ff9db60e",
   "metadata": {},
   "source": [
    "## Qustion 5 (Interview questions)\n",
    "\n",
    "* Sometimes in technical interviews, the candidate is asked some basic questions on python.\n",
    "* See https://uk.indeed.com/career-advice/interviewing/python-interview-questions for an example. Note that we will cover some of the technical issues as the course continues.\n",
    "\n"
   ]
  },
  {
   "cell_type": "markdown",
   "id": "4c948bc4",
   "metadata": {},
   "source": [
    "### Question 5a\n",
    "\n",
    "What is a Negative Index in a list in Python?"
   ]
  },
  {
   "cell_type": "code",
   "execution_count": 7,
   "id": "3c683a79",
   "metadata": {},
   "outputs": [
    {
     "name": "stdout",
     "output_type": "stream",
     "text": [
      "d\n"
     ]
    }
   ],
   "source": [
    "xx = [ \"a\" , \"b\" , \"c\" , \"d\"]\n",
    "print(xx[-1])"
   ]
  },
  {
   "cell_type": "markdown",
   "id": "7a827aa2",
   "metadata": {},
   "source": [
    "### Question 5b\n",
    "\n",
    "How the string does get converted to a number?\n"
   ]
  },
  {
   "cell_type": "code",
   "execution_count": 8,
   "id": "864249df",
   "metadata": {},
   "outputs": [],
   "source": [
    "xx = \"3.14\"\n"
   ]
  },
  {
   "cell_type": "markdown",
   "id": "839f3e13",
   "metadata": {},
   "source": [
    "### Question 5c\n",
    "\n",
    "When to use a tuple vs list vs dictionary in Python?"
   ]
  },
  {
   "cell_type": "code",
   "execution_count": null,
   "id": "36c8f94d",
   "metadata": {},
   "outputs": [],
   "source": []
  }
 ],
 "metadata": {
  "kernelspec": {
   "display_name": "Python 3 (ipykernel)",
   "language": "python",
   "name": "python3"
  },
  "language_info": {
   "codemirror_mode": {
    "name": "ipython",
    "version": 3
   },
   "file_extension": ".py",
   "mimetype": "text/x-python",
   "name": "python",
   "nbconvert_exporter": "python",
   "pygments_lexer": "ipython3",
   "version": "3.12.2"
  }
 },
 "nbformat": 4,
 "nbformat_minor": 5
}
