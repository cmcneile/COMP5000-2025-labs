{
 "cells": [
  {
   "cell_type": "markdown",
   "id": "8c5f9f59",
   "metadata": {},
   "source": [
    "# Computer Lab Exercises week 4 (Solutions)"
   ]
  },
  {
   "cell_type": "markdown",
   "id": "b3f4f1ea",
   "metadata": {},
   "source": [
    "* These lab exercises give practice in using regular expressions.  https://www.w3schools.com/python/python_regex.asp\n",
    "* These exercises are **not** part of the assessment of the Module.\n",
    "* I will post the solutions roughly 1 week after this file has been uploaded to the DLE.\n",
    "\n",
    "\n",
    "* See https://sites.google.com/view/pythonforstemstudents/home for a collection of links to information on python.\n"
   ]
  },
  {
   "cell_type": "markdown",
   "id": "8c21dd3b",
   "metadata": {},
   "source": [
    "##  Question 0) Some more manipulation of string\n",
    "\n",
    "Use the join string function (https://www.w3schools.com/python/ref_string_join.asp) to combine the list of strings into one single string that is printed out  \n"
   ]
  },
  {
   "cell_type": "code",
   "execution_count": 1,
   "id": "19ef1d3b",
   "metadata": {},
   "outputs": [
    {
     "name": "stdout",
     "output_type": "stream",
     "text": [
      "The future of money is bitcoin\n"
     ]
    }
   ],
   "source": [
    "store = [ \"The\",  \"future\" , \"of\" , \"money\" , \"is\" , \"bitcoin\" ] \n",
    "\n",
    "ans = \" \".join(store)\n",
    "\n",
    "print(ans)\n"
   ]
  },
  {
   "cell_type": "markdown",
   "id": "1651e2f2",
   "metadata": {},
   "source": [
    "## Question 1a)\n",
    "\n",
    "* Modify the script so that the search for the word **hot** is at the end of the string. "
   ]
  },
  {
   "cell_type": "code",
   "execution_count": 2,
   "id": "95d990cc",
   "metadata": {},
   "outputs": [],
   "source": [
    "import re\n",
    "xxx =  \"The mustard was very hot\"\n",
    "\n",
    "if re.search(\"cold\", xxx) :\n",
    "    print(xxx)\n"
   ]
  },
  {
   "cell_type": "code",
   "execution_count": 3,
   "id": "169d10be",
   "metadata": {},
   "outputs": [
    {
     "name": "stdout",
     "output_type": "stream",
     "text": [
      "The mustard was very hot\n"
     ]
    }
   ],
   "source": [
    "# Put your solution here\n",
    "\n",
    "import re\n",
    "xxx =  \"The mustard was very hot\"\n",
    "\n",
    "if re.search(\"hot$\", xxx) :\n",
    "    print(xxx)\n",
    "\n"
   ]
  },
  {
   "cell_type": "markdown",
   "id": "0bb4f636",
   "metadata": {},
   "source": [
    "## Question 1b)\n",
    "\n",
    "* Create a regular expression that matches a credit card number of  1234-5678-9000-1101 \n",
    "* The check should match for the **OK** numbers and fail for the **FAIL** numbers\n",
    "\n",
    "The output should look like:\n",
    "<pre>\n",
    "The format is correct for  1234-5678-9000-1101\n",
    "The format is correct for  1224-5172-9304-1121\n",
    "1245 5619 2722 7890 is not a credit card number\n",
    "121563921227241 is not a credit card number\n",
    "</pre>\n"
   ]
  },
  {
   "cell_type": "code",
   "execution_count": 4,
   "id": "8f026cfb",
   "metadata": {},
   "outputs": [],
   "source": [
    "# Put your solution here\n",
    "credit_numberA = \"1234-5678-9000-1101\"  # OK\n",
    "credit_numberB = \"1224-5172-9304-1121\"  # OK\n",
    "\n",
    "not_credit_numberA = \"1245 5619 2722 7890\" # FAIL\n",
    "not_credit_numberB = \"121563921227241\" # FAIL\n"
   ]
  },
  {
   "cell_type": "code",
   "execution_count": 5,
   "id": "32d04a03",
   "metadata": {},
   "outputs": [
    {
     "name": "stdout",
     "output_type": "stream",
     "text": [
      "The format is correct for  1234-5678-9000-1101\n",
      "The format is correct for  1224-5172-9304-1121\n",
      "1245 5619 2722 7890 is not a credit card number\n",
      "121563921227241 is not a credit card number\n"
     ]
    }
   ],
   "source": [
    "credit_numberA = \"1234-5678-9000-1101\"  # OK\n",
    "credit_numberB = \"1224-5172-9304-1121\"  # OK\n",
    "\n",
    "not_credit_numberA = \"1245 5619 2722 7890\" # FAIL\n",
    "not_credit_numberB = \"121563921227241\" # FAIL\n",
    "\n",
    "\n",
    "for xxx in [credit_numberA, credit_numberB, not_credit_numberA, not_credit_numberB] : \n",
    "  if re.search(r\"\\d\\d\\d\\d-\\d\\d\\d\\d-\\d\\d\\d\\d-\\d\\d\\d\\d\", xxx) :\n",
    "    print(\"The format is correct for \" , xxx)\n",
    "  else:\n",
    "    print(xxx, \"is not a credit card number\")\n"
   ]
  },
  {
   "cell_type": "code",
   "execution_count": null,
   "id": "8cba37cd",
   "metadata": {},
   "outputs": [],
   "source": []
  },
  {
   "cell_type": "markdown",
   "id": "87b28ff0",
   "metadata": {},
   "source": [
    "##  Question 2\n"
   ]
  },
  {
   "cell_type": "markdown",
   "id": "87e2b291",
   "metadata": {},
   "source": [
    "This exercise is an example of using regular expressions to \n",
    "match parts of strings. The python code below prints \n",
    "out part of the wikipedia page for Devon.\n",
    "\n",
    "I am asking you to use regular expressions\n",
    "(see https://www.tutorialspoint.com/python/python_reg_expressions.htm\n",
    "and the lecture notes) to find the line number, which match conditions.\n",
    "\n",
    "* Q1 Print the line, which starts with **To**.\n",
    "* Q2 Print the line, which ends with **hilly**.\n",
    "* Q3 Select the line with numbers on it.\n",
    "* Q4 Select the line with two and.\n",
    "\n",
    "As an example I show Q0 which matches **granite**"
   ]
  },
  {
   "cell_type": "code",
   "execution_count": 6,
   "id": "af2144f8",
   "metadata": {},
   "outputs": [
    {
     "name": "stdout",
     "output_type": "stream",
     "text": [
      "line[ 0 ]= The north and south coasts of Devon each have both cliffs and sandy shores.\n",
      "line[ 1 ]= The inland terrain is rural, and generally hilly.\n",
      "line[ 2 ]= Dartmoor is the largest open space in southern England, at 954 km2 (368 square miles).\n",
      "line[ 3 ]= Its moorland extends across a large expanse of granite bedrock.\n",
      "Answer to question 0 on line  3\n",
      "line[ 4 ]= To the north of Dartmoor are the Culm Measures and Exmoor.\n",
      "line[ 5 ]= In the valleys and lowlands of south and east Devon the soil is more fertile.\n"
     ]
    }
   ],
   "source": [
    "import re\n",
    "\n",
    "data = [ \"The north and south coasts of Devon each have both cliffs and sandy shores.\" , \n",
    "    \"The inland terrain is rural, and generally hilly.\",\n",
    "    \"Dartmoor is the largest open space in southern England, at 954 km2 (368 square miles).\",\n",
    "    \"Its moorland extends across a large expanse of granite bedrock.\",\n",
    "    \"To the north of Dartmoor are the Culm Measures and Exmoor.\",   \n",
    "    \"In the valleys and lowlands of south and east Devon the soil is more fertile.\"\n",
    " ] \n",
    "\n",
    "for count,xxx in enumerate(data) :\n",
    "   print(\"line[\", count, \"]=\",  xxx) \n",
    "   if re.search(\"granite\", xxx)  :\n",
    "       print(\"Answer to question 0 on line \", count)"
   ]
  },
  {
   "cell_type": "code",
   "execution_count": 7,
   "id": "1a2aaa5d",
   "metadata": {},
   "outputs": [
    {
     "name": "stdout",
     "output_type": "stream",
     "text": [
      "Answers \n",
      "line[ 0 ]= The north and south coasts of Devon each have both cliffs and sandy shores.\n",
      "Answer to question 4 on line  0\n",
      "line[ 1 ]= The inland terrain is rural, and generally hilly.\n",
      "Answer to question 2 on line  1\n",
      "line[ 2 ]= Dartmoor is the largest open space in southern England, at 954 km2 (368 square miles).\n",
      "Answer to question 3 on line  2\n",
      "line[ 3 ]= Its moorland extends across a large expanse of granite bedrock.\n",
      "Answer to question 0 on line  3\n",
      "line[ 4 ]= To the north of Dartmoor are the Culm Measures and Exmoor.\n",
      "Answer to question 1 on line  4\n",
      "line[ 5 ]= In the valleys and lowlands of south and east Devon the soil is more fertile.\n",
      "Answer to question 4 on line  5\n"
     ]
    }
   ],
   "source": [
    "import re\n",
    "\n",
    "data = [ \"The north and south coasts of Devon each have both cliffs and sandy shores.\" , \n",
    "    \"The inland terrain is rural, and generally hilly.\",\n",
    "    \"Dartmoor is the largest open space in southern England, at 954 km2 (368 square miles).\",\n",
    "    \"Its moorland extends across a large expanse of granite bedrock.\",\n",
    "    \"To the north of Dartmoor are the Culm Measures and Exmoor.\",   \n",
    "    \"In the valleys and lowlands of south and east Devon the soil is more fertile.\"\n",
    " ] \n",
    "\n",
    "print(\"Answers \")\n",
    "for count,xxx in enumerate(data) :\n",
    "   print(\"line[\", count, \"]=\",  xxx) \n",
    "   if re.search(\"granite\", xxx)  :\n",
    "       print(\"Answer to question 0 on line \", count)\n",
    "   if re.search(\"^To\", xxx)  :\n",
    "       print(\"Answer to question 1 on line \", count)\n",
    "   if re.search(\"hilly.$\", xxx)  :\n",
    "       print(\"Answer to question 2 on line \", count)\n",
    "   if re.search(\"[0-9][0-9][0-9]\" , xxx) :\n",
    "       print(\"Answer to question 3 on line \", count)\n",
    "   if re.search(r\" and.*and\" , xxx) :\n",
    "       # the space is required so that inland is not mached\n",
    "       print(\"Answer to question 4 on line \", count)\n",
    "\n"
   ]
  },
  {
   "cell_type": "markdown",
   "id": "a2e3f8b1",
   "metadata": {},
   "source": [
    "The output from my code is:\n",
    "<pre>\n",
    "line[ 0 ]= The north and south coasts of Devon each have both cliffs and sandy shores.\n",
    "Answer to question 4 on line  0\n",
    "line[ 1 ]= The inland terrain is rural, and generally hilly.\n",
    "Answer to question 2 on line  1\n",
    "line[ 2 ]= Dartmoor is the largest open space in southern England, at 954 km2 (368 square miles).\n",
    "Answer to question 3 on line  2\n",
    "line[ 3 ]= Its moorland extends across a large expanse of granite bedrock.\n",
    "line[ 4 ]= To the north of Dartmoor are the Culm Measures and Exmoor.\n",
    "Answer to question 1 on line  4\n",
    "line[ 5 ]= In the valleys and lowlands of south and east Devon the soil is more fertile.\n",
    "Answer to question 4 on line  5\n",
    "</pre>\n"
   ]
  },
  {
   "cell_type": "markdown",
   "id": "fbc8e4c7",
   "metadata": {},
   "source": [
    "I recommend you also explore using the wikipedia module\n",
    "https://stackabuse.com/getting-started-with-pythons-wikipedia-api/\n",
    "to download content from Wikipedia. This is NOT part of the exercise,\n",
    "but it is the natural next step."
   ]
  },
  {
   "cell_type": "markdown",
   "id": "14058659",
   "metadata": {},
   "source": [
    "##  Question 3 (more regular expressions)\n",
    "* The example below is a python script to extract email addresses from the string **input**\n",
    "* Unfortunately the script only finds two emails\n",
    "* Modify the script to extract all the emails.\n",
    "* I would start by understanding the regular expression in **findall**"
   ]
  },
  {
   "cell_type": "code",
   "execution_count": 8,
   "id": "b420368b",
   "metadata": {},
   "outputs": [
    {
     "name": "stdout",
     "output_type": "stream",
     "text": [
      "--------------------------------------------------\n",
      "\n",
      "My main email is yyy.dong@plymouth.ac.uk\n",
      "I have three other emails richard.gggg@plymouth.ac.uk , gggg@gmail.com\n",
      "jjj@hotmail.com\n",
      "My personal email is gig@yahoo.com\n",
      "\n",
      "--------------------------------------------------\n",
      "Extracted emails\n",
      "yyy.dong@plymouth.ac.uk\n",
      "richard.gggg@plymouth.ac.uk\n"
     ]
    }
   ],
   "source": [
    "import re\n",
    "\n",
    "input_ = \"\"\"\n",
    "My main email is yyy.dong@plymouth.ac.uk\n",
    "I have three other emails richard.gggg@plymouth.ac.uk , gggg@gmail.com\n",
    "jjj@hotmail.com\n",
    "My personal email is gig@yahoo.com\n",
    "\"\"\"\n",
    "print(\"--------------------------------------------------\")\n",
    "print(input_)\n",
    "print(\"--------------------------------------------------\")\n",
    "\n",
    "# modify this line\n",
    "email = re.findall(r'\\b\\w*\\.\\w*@\\w*\\.\\w*.\\w*\\b' , input_)\n",
    "\n",
    "print(\"Extracted emails\")\n",
    "for tuple in email:\n",
    "    print(tuple) "
   ]
  },
  {
   "cell_type": "code",
   "execution_count": 9,
   "id": "d8c33200",
   "metadata": {},
   "outputs": [
    {
     "name": "stdout",
     "output_type": "stream",
     "text": [
      "--------------------------------------------------\n",
      "\n",
      "My main email is yyy.dong@plymouth.ac.uk\n",
      "I have three other emails richard.gggg@plymouth.ac.uk , gggg@gmail.com\n",
      "jjj@hotmail.com\n",
      "My personal email is gig@yahoo.com\n",
      "\n",
      "--------------------------------------------------\n",
      "Extracted emails\n",
      "yyy.dong@plymouth.ac.uk\n",
      "richard.gggg@plymouth.ac.uk\n",
      "gggg@gmail.com\n",
      "jjj@hotmail.com\n",
      "gig@yahoo.com\n"
     ]
    }
   ],
   "source": [
    "# One Solution\n",
    "import re\n",
    "\n",
    "input_ = \"\"\"\n",
    "My main email is yyy.dong@plymouth.ac.uk\n",
    "I have three other emails richard.gggg@plymouth.ac.uk , gggg@gmail.com\n",
    "jjj@hotmail.com\n",
    "My personal email is gig@yahoo.com\n",
    "\"\"\"\n",
    "print(\"--------------------------------------------------\")\n",
    "print(input_)\n",
    "print(\"--------------------------------------------------\")\n",
    "\n",
    "# modify this line\n",
    "email = re.findall(r'\\b\\w*\\.\\w*@\\w*\\.\\w*.\\w*\\b|\\b\\w*@\\w*\\.\\w*.\\w*\\b' , input_)\n",
    "# The solution uses the |  or function to match two patterns\n",
    "\n",
    "print(\"Extracted emails\")\n",
    "for tuple in email:\n",
    "    print(tuple) "
   ]
  },
  {
   "cell_type": "code",
   "execution_count": 10,
   "id": "be1c4ab1",
   "metadata": {},
   "outputs": [
    {
     "name": "stdout",
     "output_type": "stream",
     "text": [
      "--------------------------------------------------\n",
      "\n",
      "My main email is yyy.dong@plymouth.ac.uk\n",
      "I have three other emails richard.gggg@plymouth.ac.uk , gggg@gmail.com\n",
      "jjj@hotmail.com\n",
      "My personal email is gig@yahoo.com\n",
      "\n",
      "--------------------------------------------------\n",
      "Extracted emails\n",
      "yyy.dong@plymouth.ac.uk\n",
      "richard.gggg@plymouth.ac.uk\n",
      "gggg@gmail.com\n",
      "jjj@hotmail.com\n",
      "gig@yahoo.com\n"
     ]
    }
   ],
   "source": [
    "# another solution\n",
    "import re\n",
    "\n",
    "input_ = \"\"\"\n",
    "My main email is yyy.dong@plymouth.ac.uk\n",
    "I have three other emails richard.gggg@plymouth.ac.uk , gggg@gmail.com\n",
    "jjj@hotmail.com\n",
    "My personal email is gig@yahoo.com\n",
    "\"\"\"\n",
    "print(\"--------------------------------------------------\")\n",
    "print(input_)\n",
    "print(\"--------------------------------------------------\")\n",
    "\n",
    "# modify this line\n",
    "\n",
    "email = re.findall(r'\\b[a-z\\.]*@[a-z\\.]*\\b' , input_)\n",
    "#  This matches start_of_word multiple copies letter. @ multiple copies letter. end_\n",
    "\n",
    "\n",
    "print(\"Extracted emails\")\n",
    "for tuple in email:\n",
    "    print(tuple) "
   ]
  },
  {
   "cell_type": "markdown",
   "id": "c73e57e9",
   "metadata": {},
   "source": [
    "The goal is use regular expressions to extract all the email\n",
    "addresses in a string variable.\n",
    "\n",
    "This exercise is an example of using regular expressions to \n",
    "match parts of strings. The above python code extracts some\n",
    "of the email addresses from the string **input**.\n",
    "The regular expression matches emails of the form:\n",
    "letters-or-numbers.letters-or-numberse@letters-or-numbers.letters-or-numbers.letters-or-numbers .\n",
    "The command \"\\b\" matches the spacing between words.\n",
    "\n",
    "The current python code does not extract all the email addresses, so\n",
    "the task is to modify the regular expression so that the python\n",
    "extracts all the email addresses. See\n",
    "https://www.tutorialspoint.com/python/python_reg_expressions.htm\n",
    "and the lecture notes.\n",
    "\n"
   ]
  },
  {
   "cell_type": "markdown",
   "id": "eba0beff",
   "metadata": {},
   "source": [
    "## Question  4  (Harder)\n",
    "*  The csv file resources_69441989-dac6-4a8e-92e3-6d1dbe93fd2b_devon-businesses.csv contains information about Devon companies. The file is available on the DLE.\n",
    "*  The data set is from  https://plymouth.thedata.place/dataset/devon-businesses \n",
    "\n",
    "The exercise is to check the post codes in the csv file. For example the enteries in column **RegAddress.PostCode**  and column **Pcodelookup**. \n",
    "\n",
    "* Modify the code below to count the number of times the **RegAddress.PostCode** and **Pcodelookup** are different (after removing any spaces). \n",
    "\n",
    "* Also print out the **CompanyNumber** when the postcode is not in the correct format. https://ideal-postcodes.co.uk/guides/uk-postcode-format To simplify the problem just assume that the postcode is a combination of letters and numbers.\n",
    "\n",
    "\n",
    "Just for information you can look up information about companies using  https://find-and-update.company-information.service.gov.uk/?_ga=2.26241021.174329778.1666023410-664048164.1666023410"
   ]
  },
  {
   "cell_type": "code",
   "execution_count": 1,
   "id": "2bbdc747",
   "metadata": {},
   "outputs": [
    {
     "name": "stdout",
     "output_type": "stream",
     "text": [
      "Readng the data from  resources_69441989-dac6-4a8e-92e3-6d1dbe93fd2b_devon-businesses.csv\n",
      "---------------\n",
      "The number of mismatched postcodes  0\n",
      "Incorrect postcode format\n"
     ]
    }
   ],
   "source": [
    "# Modify this code\n",
    "import csv\n",
    "import re\n",
    "name = \"resources_69441989-dac6-4a8e-92e3-6d1dbe93fd2b_devon-businesses.csv\"\n",
    "print(\"Readng the data from \" , name)\n",
    "\n",
    "count = 0 \n",
    "store = []\n",
    "with open(name,encoding=\"ISO-8859-1\") as csvfile:\n",
    "    readCSV = csv.reader(csvfile, delimiter=',')\n",
    "    next(readCSV) \n",
    "    for row in readCSV:\n",
    "\n",
    "                    company_no     = row[0]\n",
    "                    postcode       = row[6].replace(\" \",\"\")\n",
    "                    postcode_regen = row[18].replace(\" \",\"\")\n",
    "\n",
    "\n",
    "print(\"---------------\")\n",
    "\n",
    "print(\"The number of mismatched postcodes \" , count)\n",
    "print(\"Incorrect postcode format\")\n",
    "store.sort()\n",
    "for ss in store :\n",
    "    print(ss)\n"
   ]
  },
  {
   "cell_type": "code",
   "execution_count": 2,
   "id": "7991f4a7",
   "metadata": {},
   "outputs": [
    {
     "name": "stdout",
     "output_type": "stream",
     "text": [
      "Readng the data from  resources_69441989-dac6-4a8e-92e3-6d1dbe93fd2b_devon-businesses.csv\n",
      "---------------\n",
      "The number of mismatched postcodes  15289\n",
      "Incorrect postcode format\n",
      "1118335\n",
      "1171193\n",
      "1378536\n",
      "1520456\n",
      "1529593\n",
      "1753725\n",
      "1830071\n",
      "1995238\n",
      "2244084\n",
      "2323873\n",
      "2347461\n",
      "2444710\n",
      "2466331\n",
      "2751673\n",
      "2908967\n",
      "2935942\n",
      "2958290\n",
      "3168499\n",
      "3277650\n",
      "3348176\n",
      "3417575\n",
      "3613533\n",
      "3918945\n",
      "4199124\n",
      "4417100\n",
      "4431782\n",
      "4443441\n",
      "4779348\n",
      "4868976\n",
      "491948\n",
      "5001799\n",
      "5250887\n",
      "5641904\n",
      "5977493\n",
      "622016\n",
      "6533166\n",
      "6666870\n",
      "6938846\n",
      "6941269\n",
      "6974710\n",
      "7040903\n",
      "7173057\n",
      "7194265\n",
      "7249459\n",
      "7471464\n",
      "7508506\n",
      "7647283\n",
      "7736174\n",
      "7839506\n",
      "7923087\n",
      "797171\n",
      "815002\n",
      "8268515\n",
      "8334285\n",
      "8356735\n",
      "8387072\n",
      "8387321\n",
      "8435824\n",
      "8497744\n",
      "8637339\n",
      "8665905\n",
      "8747169\n",
      "8922099\n",
      "8936853\n",
      "8958307\n",
      "8986337\n",
      "8999824\n",
      "9219367\n",
      "9249650\n",
      "9267908\n",
      "9370354\n",
      "9470056\n",
      "9513535\n",
      "9593599\n",
      "9628293\n",
      "9700761\n",
      "9835930\n",
      "9946231\n",
      "9952620\n",
      "IP15001R\n",
      "LP003582\n",
      "LP003944\n",
      "LP004184\n",
      "LP004236\n",
      "LP004323\n",
      "LP004429\n",
      "LP004441\n",
      "LP004929\n",
      "LP010271\n",
      "LP013051\n",
      "OC349965\n",
      "OC398588\n"
     ]
    }
   ],
   "source": [
    "import csv\n",
    "import re\n",
    "name = \"resources_69441989-dac6-4a8e-92e3-6d1dbe93fd2b_devon-businesses.csv\"\n",
    "print(\"Readng the data from \" , name)\n",
    "\n",
    "count = 0 \n",
    "store = []\n",
    "with open(name,encoding=\"ISO-8859-1\") as csvfile:\n",
    "    readCSV = csv.reader(csvfile, delimiter=',')\n",
    "    next(readCSV) \n",
    "    for row in readCSV:\n",
    "\n",
    "                    company_no     = row[0]\n",
    "                    postcode       = row[6].replace(\" \",\"\")\n",
    "                    postcode_regen = row[18].replace(\" \",\"\")\n",
    "\n",
    "                    if not re.search(r\"\\D\", postcode) :\n",
    "#                       print(\"Problem \" , postcode, company_no )\n",
    "                       store.append(company_no)\n",
    "        \n",
    "                    if postcode != postcode_regen :\n",
    "#                         print(company_no, postcode, postcode_regen)\n",
    "#                         print(company_no, end = \" \")         \n",
    "                        count += 1\n",
    "\n",
    "print(\"---------------\")\n",
    "\n",
    "print(\"The number of mismatched postcodes \" , count)\n",
    "print(\"Incorrect postcode format\")\n",
    "store.sort()\n",
    "for ss in store :\n",
    "    print(ss)\n"
   ]
  },
  {
   "cell_type": "markdown",
   "id": "e1e526a8",
   "metadata": {},
   "source": [
    "## Qustion 5 (Interview questions)\n",
    "\n",
    "* Sometimes in technical interviews, the candidate is asked some basic questions on python.\n",
    "* See https://uk.indeed.com/career-advice/interviewing/python-interview-questions for an example. Note that we will cover some of the technical issues as the course continues.\n",
    "\n"
   ]
  },
  {
   "cell_type": "markdown",
   "id": "00d5b26f",
   "metadata": {},
   "source": [
    "### Question 5a\n",
    "\n",
    "What is a Negative Index in a list in Python?"
   ]
  },
  {
   "cell_type": "code",
   "execution_count": 13,
   "id": "75c73a3a",
   "metadata": {},
   "outputs": [
    {
     "name": "stdout",
     "output_type": "stream",
     "text": [
      "d\n"
     ]
    }
   ],
   "source": [
    "xx = [ \"a\" , \"b\" , \"c\" , \"d\"]\n",
    "print(xx[-1])"
   ]
  },
  {
   "cell_type": "markdown",
   "id": "01f4e8d6",
   "metadata": {},
   "source": [
    "The negative index is elements from the end of the list\n",
    "For example x[-1] is the last element of a list\n",
    "For example x[-2] is the second to last element of a list"
   ]
  },
  {
   "cell_type": "markdown",
   "id": "1b4a5b33",
   "metadata": {},
   "source": [
    "### Question 5b\n",
    "\n",
    "How the string does get converted to a number?"
   ]
  },
  {
   "cell_type": "code",
   "execution_count": 14,
   "id": "dbf4a45d",
   "metadata": {},
   "outputs": [
    {
     "name": "stdout",
     "output_type": "stream",
     "text": [
      "3.14\n"
     ]
    }
   ],
   "source": [
    "xx = \"3.14\"\n",
    "\n",
    "xxf = float(xx)\n",
    "\n",
    "print(xxf)"
   ]
  },
  {
   "cell_type": "markdown",
   "id": "8da47915",
   "metadata": {},
   "source": [
    "The float function converts a string to a number"
   ]
  },
  {
   "cell_type": "markdown",
   "id": "9c9845d4",
   "metadata": {},
   "source": [
    "### Question 5c\n",
    "\n",
    "When to use a tuple vs list vs dictionary in Python?"
   ]
  },
  {
   "cell_type": "markdown",
   "id": "48693064",
   "metadata": {},
   "source": [
    "* Use a tuple to store a sequence of items that will not change.\n",
    "\n",
    "* Use a list to store a sequence of items that may change.\n",
    "\n",
    "* Use a dictionary when you want to associate pairs of two items."
   ]
  },
  {
   "cell_type": "code",
   "execution_count": null,
   "id": "f885bc11",
   "metadata": {},
   "outputs": [],
   "source": []
  },
  {
   "cell_type": "code",
   "execution_count": null,
   "id": "2250e536",
   "metadata": {},
   "outputs": [],
   "source": []
  }
 ],
 "metadata": {
  "kernelspec": {
   "display_name": "Python 3 (ipykernel)",
   "language": "python",
   "name": "python3"
  },
  "language_info": {
   "codemirror_mode": {
    "name": "ipython",
    "version": 3
   },
   "file_extension": ".py",
   "mimetype": "text/x-python",
   "name": "python",
   "nbconvert_exporter": "python",
   "pygments_lexer": "ipython3",
   "version": "3.12.2"
  }
 },
 "nbformat": 4,
 "nbformat_minor": 5
}
