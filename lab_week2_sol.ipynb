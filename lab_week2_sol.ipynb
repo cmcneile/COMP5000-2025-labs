{
 "cells": [
  {
   "cell_type": "markdown",
   "id": "8c5f9f59",
   "metadata": {},
   "source": [
    "# Computer Lab Exercises week 2 (Solutions)"
   ]
  },
  {
   "cell_type": "markdown",
   "id": "b3f4f1ea",
   "metadata": {},
   "source": [
    "* These lab exercises are designed to introduce the basic syntax of python.\n",
    "* A screencast on downloading jupyter notebooks from the online store.\n",
    "https://youtu.be/1zY7hIj5tWg\n",
    "* These exercises are **not** part of the assessment of the Module.\n",
    "* I will post the solutions roughly 1 week after this file has been uploaded to the DLE.\n",
    "* Please first watch and work through the linkedin learning video\n",
    "* Please note that pasting python from pdf can sometimes cause problems. For example quotation marks can sometimes be converted incorrectly, so then running python will cause errors.\n",
    "\n",
    "* See https://sites.google.com/view/pythonforstemstudents/home for a collection\n",
    "of links to information on python.\n"
   ]
  },
  {
   "cell_type": "markdown",
   "id": "1651e2f2",
   "metadata": {},
   "source": [
    "## Question 1\n",
    "\n",
    "Below are some questions on basic syntax of string\n",
    "*  The link https://www.w3schools.com/python/python_strings.asp has some useful background information"
   ]
  },
  {
   "cell_type": "markdown",
   "id": "24d844e8",
   "metadata": {},
   "source": [
    "##  Question 1a)  \n",
    "Write some python code to combne the two strings in variables a and b to produce \"data_science\""
   ]
  },
  {
   "cell_type": "code",
   "execution_count": 1,
   "id": "e489a9d0",
   "metadata": {},
   "outputs": [
    {
     "name": "stdout",
     "output_type": "stream",
     "text": [
      "The answer is  data_science\n"
     ]
    }
   ],
   "source": [
    "# Put your solution here\n",
    "a = \"data\" \n",
    "b = \"science\"\n",
    "ans = a + \"_\" + b\n",
    "print(\"The answer is \" , ans)"
   ]
  },
  {
   "cell_type": "markdown",
   "id": "87b28ff0",
   "metadata": {},
   "source": [
    "##  Question 1b) \n",
    "Use a string method (see https://www.w3schools.com/python/python_ref_string.asp ) to convert the string in the variable xxx, so that each word begins with a capitol letter."
   ]
  },
  {
   "cell_type": "code",
   "execution_count": 2,
   "id": "6d5e9cdc",
   "metadata": {},
   "outputs": [
    {
     "name": "stdout",
     "output_type": "stream",
     "text": [
      "Titled  Post Your Vacancy Today Find Data Scientists For Your Job\n"
     ]
    }
   ],
   "source": [
    "xxx = \"post your vacancy today find data Scientists for your job\"\n",
    "\n",
    "# moodify your code here\n",
    "yyy = xxx.title()\n",
    "print(\"Titled \" , yyy)\n"
   ]
  },
  {
   "cell_type": "markdown",
   "id": "87e2b291",
   "metadata": {},
   "source": [
    "The output from your code should look like:\n",
    "\n",
    "Post Your Vacancy Today Find Data Scientists For Your Job"
   ]
  },
  {
   "cell_type": "code",
   "execution_count": null,
   "id": "8edf14f3",
   "metadata": {},
   "outputs": [],
   "source": []
  },
  {
   "cell_type": "markdown",
   "id": "8968282f",
   "metadata": {},
   "source": [
    "## Question 1c)\n",
    "Convert the string below into a list of words (using the example in lecture 2, or another method) and print the list of words out\n"
   ]
  },
  {
   "cell_type": "code",
   "execution_count": 3,
   "id": "a3498f2f",
   "metadata": {},
   "outputs": [
    {
     "name": "stdout",
     "output_type": "stream",
     "text": [
      "['post', 'your', 'vacancy', 'today', 'find', 'data', 'Scientists', 'for', 'your', 'job']\n"
     ]
    }
   ],
   "source": [
    "xxx = \"post your vacancy today find data Scientists for your job\"\n",
    "#  put your solution here\n",
    "ans = xxx.split()\n",
    "print(ans)\n"
   ]
  },
  {
   "cell_type": "markdown",
   "id": "4af2a442",
   "metadata": {},
   "source": [
    "## Question 2  \n",
    "Some basic manipulations of the dictionary data type.\n",
    "* See  https://www.w3schools.com/python/python_dictionaries.asp for background"
   ]
  },
  {
   "cell_type": "markdown",
   "id": "52245496",
   "metadata": {},
   "source": [
    "## Question 2a\n",
    "\n",
    "* Modify the code below to include student4 as \"Colin\"\n",
    "* Write a loop so that all the names are writen out\n"
   ]
  },
  {
   "cell_type": "code",
   "execution_count": 4,
   "id": "b59b4d89",
   "metadata": {},
   "outputs": [
    {
     "name": "stdout",
     "output_type": "stream",
     "text": [
      "Roger\n",
      "student1 Roger\n",
      "student2 Jane\n",
      "student3 Phil\n",
      "student4 Colin\n"
     ]
    }
   ],
   "source": [
    "# Modify the code below to complete the task\n",
    "\n",
    "first_name = {\n",
    "  \"student1\": \"Roger\",\n",
    "  \"student2\": \"Jane\",\n",
    "  \"student3\":  \"Phil\",\n",
    "}\n",
    "\n",
    "print(first_name[\"student1\"])\n",
    "first_name[\"student4\"] = \"Colin\"\n",
    "\n",
    "for xx in first_name.keys() :\n",
    "    print(xx,first_name[xx] )\n"
   ]
  },
  {
   "cell_type": "markdown",
   "id": "8adbfdea",
   "metadata": {},
   "source": [
    "The output should look like:\n",
    "    "
   ]
  },
  {
   "cell_type": "markdown",
   "id": "c9d7445d",
   "metadata": {},
   "source": [
    "##  Question 3 (string manipulation)"
   ]
  },
  {
   "cell_type": "markdown",
   "id": "b726dda0",
   "metadata": {},
   "source": [
    "You are asked to create user names for a list of users by combining their first name and second names, both in lower case. For example for William Wilson the user name would be williamwilson. \n",
    "\n",
    "Write a python code to use as input the lists of strings."
   ]
  },
  {
   "cell_type": "code",
   "execution_count": 5,
   "id": "c09161d9",
   "metadata": {},
   "outputs": [
    {
     "name": "stdout",
     "output_type": "stream",
     "text": [
      "williamwilson\n",
      "jamesdavies\n",
      "loganwalker\n",
      "benjaminhall\n"
     ]
    }
   ],
   "source": [
    "# Modify this call to create your solution\n",
    "\n",
    "first_name = [  \"William\" , \"James\" , \"Logan\" , \"Benjamin\" ]\n",
    "\n",
    "second_name = [ \"Wilson\" , \"Davies\" , \"Walker\" , \"Hall\" ] \n",
    "\n",
    "# Below is a hint\n",
    "for i in range(0, len(first_name)) :\n",
    "    tmp = first_name[i].lower() + second_name[i].lower()\n",
    "    print(tmp)"
   ]
  },
  {
   "cell_type": "markdown",
   "id": "3b5716a1",
   "metadata": {},
   "source": [
    "to create the usernames:\n",
    "\n",
    "williamwilson<br>\n",
    "jamesdavies<br>\n",
    "loganwalker<br>\n",
    "benjaminhall</br>\n"
   ]
  },
  {
   "cell_type": "markdown",
   "id": "8679e00c",
   "metadata": {},
   "source": [
    "**Note**  \n",
    "\n",
    "A more elegant solution uses zip. See this example: https://towardsdatascience.com/two-simple-ways-to-loop-more-effectively-in-python-886526008a70"
   ]
  },
  {
   "cell_type": "code",
   "execution_count": 6,
   "id": "468b0833",
   "metadata": {},
   "outputs": [
    {
     "name": "stdout",
     "output_type": "stream",
     "text": [
      "williamwilson\n",
      "jamesdavies\n",
      "loganwalker\n",
      "benjaminhall\n"
     ]
    }
   ],
   "source": [
    "# solution using zip\n",
    "for f, l in zip(first_name, second_name) :\n",
    "    tmp = f.lower() + l.lower()\n",
    "    print(tmp)\n"
   ]
  },
  {
   "cell_type": "markdown",
   "id": "27e9787a",
   "metadata": {},
   "source": [
    "##  Question 3 (counting words)\n",
    "\n",
    "Use python dictionary to count the number of words\n",
    "in the string **text** in the next cell. \n",
    "\n",
    "For example, the partial output from my python code is\n",
    "\n",
    "and 1<br>\n",
    "everyone 1<br>\n",
    "bomb 3<br>\n",
    "\n",
    "(See the hint in the cell afterwards that uses a dictionary to count the\n",
    "number of cats and dogs.)\n",
    "\n",
    "This would be the starting point of a machine learning project. The\n",
    "security services might be interested in the multiple use of the word\n",
    "\"bomb\" in the message, but might be less concerned because \"bomb\" and\n",
    "\"film\" occur in the same message.\n"
   ]
  },
  {
   "cell_type": "code",
   "execution_count": 7,
   "id": "b380575f",
   "metadata": {},
   "outputs": [
    {
     "name": "stdout",
     "output_type": "stream",
     "text": [
      "I watched a great film last night called Speed. \n",
      "There was a bomb on a bus. If the bus \n",
      "slowed down, then the bomb exploded and\n",
      "everyone died. The guy who put the bomb on the bus was crazy.\n",
      "I 1\n",
      "watched 1\n",
      "a 3\n",
      "great 1\n",
      "film 1\n",
      "last 1\n",
      "night 1\n",
      "called 1\n",
      "Speed. 1\n",
      "There 1\n",
      "was 2\n",
      "bomb 3\n",
      "on 2\n",
      "bus. 1\n",
      "If 1\n",
      "the 4\n",
      "bus 2\n",
      "slowed 1\n",
      "down, 1\n",
      "then 1\n",
      "exploded 1\n",
      "and 1\n",
      "everyone 1\n",
      "died. 1\n",
      "The 1\n",
      "guy 1\n",
      "who 1\n",
      "put 1\n",
      "crazy. 1\n"
     ]
    }
   ],
   "source": [
    "# Put your solution here\n",
    "text = \"\"\"I watched a great film last night called Speed. \n",
    "There was a bomb on a bus. If the bus \n",
    "slowed down, then the bomb exploded and\n",
    "everyone died. The guy who put the bomb on the bus was crazy.\"\"\"\n",
    "\n",
    "print (text)\n",
    "\n",
    "words = text.split()\n",
    "store = dict()\n",
    "\n",
    "for xxx in words :\n",
    "  if xxx in store: \n",
    "    store[xxx] += 1 \n",
    "  else:\n",
    "    # if the animal string is not stored, then set the counter to 1\n",
    "    store[xxx] = 1 \n",
    "\n",
    "for yy in store.keys() :\n",
    "    print(yy, store[yy])\n"
   ]
  },
  {
   "cell_type": "markdown",
   "id": "afab510f",
   "metadata": {},
   "source": [
    "The page\n",
    "https://www.w3schools.com/python/python_dictionaries.asp \n",
    "contains many examples of the python dictionary type.\n",
    "\n",
    "The python code below may give you some ideas on how\n",
    "to solve the problem."
   ]
  },
  {
   "cell_type": "code",
   "execution_count": 8,
   "id": "f1003fdd",
   "metadata": {},
   "outputs": [
    {
     "name": "stdout",
     "output_type": "stream",
     "text": [
      "dogs\n",
      "cats\n",
      "dogs\n",
      "dogs\n",
      "Number of dogs =  3\n",
      "Number of cats =  1\n"
     ]
    }
   ],
   "source": [
    "#  Basic example of using dictionary to count\n",
    "#  strings\n",
    "\n",
    "house_pets = [ \"dogs\" , \"cats\" , \"dogs\" , \"dogs\" ] \n",
    "\n",
    "pets = dict()\n",
    "#  create an empty dictionary\n",
    "\n",
    "for animal in house_pets :\n",
    "  print(animal)\n",
    "  if animal in pets: \n",
    "    # if animal is stored in pets then add 1\n",
    "    pets[animal] += 1 \n",
    "  else:\n",
    "    # if the animal string is not stored, then set the counter to 1\n",
    "    pets[animal] = 1 \n",
    "    \n",
    "print(\"Number of dogs = \" , pets[\"dogs\"] )\n",
    "print(\"Number of cats = \" , pets[\"cats\"] )\n"
   ]
  },
  {
   "cell_type": "code",
   "execution_count": null,
   "id": "c1d8efea",
   "metadata": {},
   "outputs": [],
   "source": []
  },
  {
   "cell_type": "markdown",
   "id": "7914db0d",
   "metadata": {},
   "source": [
    "# ADVANCED Question 4 (Statistical analysis with python)"
   ]
  },
  {
   "cell_type": "markdown",
   "id": "010bcc06",
   "metadata": {},
   "source": [
    "The kaggle site (https://www.kaggle.com) makes available many data sets.\n",
    "One interesting data set is of Reports and files on Major Crimes and\n",
    "Location from the Toronto Police.\n",
    "https://www.kaggle.com/kapastor/toronto-police-data-crime-rates-by-neighbourhood\n",
    "\n",
    "The file **88MCI\\_2014\\_to\\_2019.csv** available from the above link\n",
    "and the DLE contains a spreadsheet with the data about crimes in\n",
    "Toronto \n",
    "\n",
    "The python code below contains some\n",
    "code to load in the data from the spreadsheet."
   ]
  },
  {
   "cell_type": "code",
   "execution_count": 9,
   "id": "be1e0488",
   "metadata": {},
   "outputs": [
    {
     "name": "stdout",
     "output_type": "stream",
     "text": [
      "Commercial 1430 100 Assault\n",
      "Commercial 1430 100 Assault\n",
      "Apartment 2120 200 B&E\n",
      "Other 2120 200 B&E\n",
      "Commercial 1430 100 Assault\n",
      "Apartment 2120 200 B&E\n",
      "Outside 1430 100 Assault\n",
      "Outside 1430 100 Assault\n",
      "Outside 1430 100 Assault\n",
      "Outside 1610 160 Robbery - Taxi\n",
      "Commercial 1480 100 Assault - Resist/ Prevent Seiz\n",
      "Other 1430 100 Assault\n",
      "Commercial 1430 100 Assault\n",
      "House 2120 200 B&E\n",
      "Other 1430 100 Assault\n",
      "Outside 1430 100 Assault\n",
      "Outside 1430 100 Assault\n",
      "Outside 1430 100 Assault\n",
      "House 2120 200 B&E\n",
      "Commercial 2120 200 B&E\n",
      "House 2120 200 B&E\n",
      "Apartment 1430 100 Assault\n",
      "Other 1610 200 Robbery - Mugging\n",
      "Apartment 1450 100 Discharge Firearm - Recklessly\n",
      "Apartment 1457 100 Pointing A Firearm\n",
      "Apartment 1410 100 Aggravated Assault\n",
      "Commercial 1420 100 Assault With Weapon\n",
      "Commercial 1430 100 Assault\n",
      "House 1430 100 Assault\n",
      "Other 1430 100 Assault\n",
      "Apartment 1420 100 Assault With Weapon\n",
      "Apartment 2130 210 Theft Over\n",
      "Other 2120 200 B&E\n",
      "Commercial 2133 200 Theft Over - Shoplifting\n",
      "Commercial 2120 200 B&E\n",
      "Commercial 2120 220 B&E W'Intent\n",
      "Commercial 2120 200 B&E\n",
      "Other 1430 100 Assault\n",
      "Commercial 2120 200 B&E\n",
      "Outside 1610 200 Robbery - Mugging\n",
      "Other 1430 100 Assault\n",
      "House 2120 200 B&E\n",
      "Apartment 1430 100 Assault\n",
      "Apartment 1430 100 Assault\n",
      "Other 1420 110 Assault Bodily Harm\n",
      "Other 1420 100 Assault With Weapon\n",
      "Apartment 1430 100 Assault\n",
      "Commercial 1610 190 Robbery - Atm\n",
      "House 1430 100 Assault\n",
      "House 2120 200 B&E\n"
     ]
    }
   ],
   "source": [
    "import csv\n",
    "import sys\n",
    "import numpy as np\n",
    "\n",
    "name = \"MCI_2014_to_2019.csv\"\n",
    "\n",
    "i = 0\n",
    "with open(name) as csvfile:\n",
    "    readCSV = csv.reader(csvfile, delimiter=',')\n",
    "    next(readCSV, None)  # skip the headers\n",
    "#   only print the first 50 elements (not part of the proble\n",
    "    for row in readCSV:\n",
    "        if i < 50 :\n",
    "            print(row[6], row[7], row[8], row[9])\n",
    "        i += 1\n"
   ]
  },
  {
   "cell_type": "markdown",
   "id": "ae604f12",
   "metadata": {},
   "source": [
    "Under the **offence** columns there are different types of\n",
    "Assaults recorded. Write some python code to read in the file\n",
    "and count the number of times each type of assault occurs.\n",
    "\n",
    "For example, there are 18168 \"Assault with Weapon\"  recorded by the \n",
    "Toronto Police in the above file.\n",
    "\n",
    "\n"
   ]
  },
  {
   "cell_type": "code",
   "execution_count": 10,
   "id": "cf712a6f",
   "metadata": {},
   "outputs": [
    {
     "name": "stdout",
     "output_type": "stream",
     "text": [
      "Reading class file from  MCI_2014_to_2019.csv\n",
      "Assault 76124\n",
      "Assault - Resist/ Prevent Seiz 2376\n",
      "Aggravated Assault 1864\n",
      "Assault With Weapon 18168\n",
      "Assault Bodily Harm 5104\n",
      "Assault Peace Officer 3581\n",
      "Assault - Force/Thrt/Impede 257\n",
      "Assault Peace Officer Wpn/Cbh 319\n",
      "Aggravated Assault Avails Pros 13\n"
     ]
    }
   ],
   "source": [
    "# solution\n",
    "import sys\n",
    "import numpy as np\n",
    "import csv\n",
    "\n",
    "name = \"MCI_2014_to_2019.csv\"\n",
    "\n",
    "# dictionary to store the number of assaults\n",
    "store = dict()\n",
    "\n",
    "print(\"Reading class file from \" , name )\n",
    "with open(name) as csvfile:\n",
    "    readCSV = csv.reader(csvfile, delimiter=',')\n",
    "    next(readCSV, None)  # skip the headers\n",
    "\n",
    "    # set the counters to zero\n",
    "    for row in readCSV:\n",
    "#      the Assault is in row[9]\n",
    "       if 'Assault' in  row[9] :\n",
    "           if row[9] in store :\n",
    "              store[row[9]] += 1\n",
    "           else:\n",
    "               store[row[9]]  = 1\n",
    "                \n",
    "#\n",
    "#  print out the assaults\n",
    "#\n",
    "\n",
    "for xx in store.keys() :\n",
    "    print(xx, store[xx])\n",
    "\n",
    "\n"
   ]
  },
  {
   "cell_type": "code",
   "execution_count": null,
   "id": "b86eb074",
   "metadata": {},
   "outputs": [],
   "source": []
  },
  {
   "cell_type": "code",
   "execution_count": null,
   "id": "b2b6850d",
   "metadata": {},
   "outputs": [],
   "source": []
  }
 ],
 "metadata": {
  "kernelspec": {
   "display_name": "Python 3 (ipykernel)",
   "language": "python",
   "name": "python3"
  },
  "language_info": {
   "codemirror_mode": {
    "name": "ipython",
    "version": 3
   },
   "file_extension": ".py",
   "mimetype": "text/x-python",
   "name": "python",
   "nbconvert_exporter": "python",
   "pygments_lexer": "ipython3",
   "version": "3.12.2"
  }
 },
 "nbformat": 4,
 "nbformat_minor": 5
}
