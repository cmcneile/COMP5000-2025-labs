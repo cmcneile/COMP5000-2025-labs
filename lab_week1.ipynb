{
 "cells": [
  {
   "cell_type": "markdown",
   "id": "8c5f9f59",
   "metadata": {},
   "source": [
    "# Computer Lab Exercises week 1"
   ]
  },
  {
   "cell_type": "markdown",
   "id": "b3f4f1ea",
   "metadata": {},
   "source": [
    "* These lab exercises are designed to introduce the basic syntax of python.\n",
    "* These exercises are **not** part of the assessment of the Module.\n",
    "\n",
    "* I will post the solutions roughly 1 week after this file has been uploaded to the DLE.\n",
    "* Please first watch and work through the linkedin learning video https://www.linkedin.com/learning/python-for-students/python-for-students\n",
    "* Please note that pasting python from pdf can sometimes cause problems. For example quotation marks can sometimes be converted incorrectly, so then running python will cause errors.\n",
    "\n",
    "* See https://sites.google.com/view/pythonforstemstudents/home for a collection\n",
    "of links to information on python.\n",
    "\n",
    "See this example of running this notebook in a juypter notebook  https://plymouth.cloud.panopto.eu/Panopto/Pages/Viewer.aspx?id=773f9055-f133-403c-a7c7-b1f00102a335\n"
   ]
  },
  {
   "cell_type": "markdown",
   "id": "11226d83",
   "metadata": {},
   "source": [
    "## Question 1\n",
    "Write some python to print out the phrase:  hello python "
   ]
  },
  {
   "cell_type": "code",
   "execution_count": null,
   "id": "06101f99",
   "metadata": {},
   "outputs": [],
   "source": [
    "# Put your solution here\n"
   ]
  },
  {
   "cell_type": "markdown",
   "id": "5984dab7",
   "metadata": {},
   "source": [
    "## Question 2\n",
    "\n",
    "Modify the python to add the variables x and y and print the result out"
   ]
  },
  {
   "cell_type": "code",
   "execution_count": 1,
   "id": "e2125862",
   "metadata": {},
   "outputs": [],
   "source": [
    "# Put your solution here\n",
    "x = 2\n",
    "y = 3"
   ]
  },
  {
   "cell_type": "markdown",
   "id": "df837d68",
   "metadata": {},
   "source": [
    "## Question 3\n",
    "\n",
    "Combine the strings \"Peter\" and \"Higgs\" to form a new variable \"Peter Higgs\" and print the variable out.\n",
    " "
   ]
  },
  {
   "cell_type": "code",
   "execution_count": 2,
   "id": "8470ecc5",
   "metadata": {},
   "outputs": [],
   "source": [
    "first = \"Peter\"\n",
    "last  = \"Higgs\"\n",
    "\n"
   ]
  },
  {
   "cell_type": "markdown",
   "id": "c9d7445d",
   "metadata": {},
   "source": [
    "##  Question 4 (calculation and printing)"
   ]
  },
  {
   "cell_type": "markdown",
   "id": "b726dda0",
   "metadata": {},
   "source": [
    "A rule of thumb is that a bank will offer lend you money to buy a house that is less than three times your gross income. \n",
    "\n",
    "\n",
    "Write some python code to input your gross income and then print out the maximum amount of money the bank will lend you to buy a home."
   ]
  },
  {
   "cell_type": "code",
   "execution_count": null,
   "id": "c09161d9",
   "metadata": {},
   "outputs": [],
   "source": [
    "# Put your solution here\n",
    "income = int(input(\"Input your gross income \"))\n"
   ]
  },
  {
   "cell_type": "markdown",
   "id": "27e9787a",
   "metadata": {},
   "source": [
    "##  Question 5 (logic in python)\n",
    "\n",
    "Write some python code which takes as input a velocity (in miles per\n",
    "hour) of a vehicle driving on a UK motor way, which prints out a\n",
    "warning, if the velocity is greater than 70.\n",
    "\n",
    "The output of my python produced.\n",
    "\n",
    "Your input speed = 50 miles per hour\n",
    "You are driving at safe speed\n",
    "\n",
    "Your input speed = 80 miles per hour\n",
    "You are driving too fast! Slow down\n"
   ]
  },
  {
   "cell_type": "code",
   "execution_count": null,
   "id": "b380575f",
   "metadata": {},
   "outputs": [],
   "source": [
    "# Put your solution here\n",
    "\n",
    "speed = int(input(\"Input your speed \"))\n",
    "print(\"Your input speed = \", speed, \"miles per hour\")"
   ]
  },
  {
   "cell_type": "markdown",
   "id": "3efbe4b7",
   "metadata": {},
   "source": [
    "This exercise is just a basic example of using the\n",
    "**if** statement. \n",
    "\n",
    "Can you think of ways making the code more flexible?\n",
    "\n",
    "See <https://en.wikipedia.org/wiki/Road_speed_limits_in_the_United_Kingdom>."
   ]
  },
  {
   "cell_type": "markdown",
   "id": "051c492e",
   "metadata": {},
   "source": [
    "##  Question 6 (Comparing strings)"
   ]
  },
  {
   "cell_type": "markdown",
   "id": "d460805f",
   "metadata": {},
   "source": [
    "I would like you to write some python code to return \n",
    "the number of \"cat\" and \"dog\" strings in the pets list."
   ]
  },
  {
   "cell_type": "code",
   "execution_count": null,
   "id": "518b2420",
   "metadata": {},
   "outputs": [],
   "source": [
    "pets = [ \"cat\" , \"dog\" , \"dog\", \"cat\" , \"dog\" , \"dog\" ]"
   ]
  },
  {
   "cell_type": "code",
   "execution_count": null,
   "id": "c0d11b3a",
   "metadata": {},
   "outputs": [],
   "source": [
    "# Put your solution here\n",
    "pets = [ \"cat\" , \"dog\" , \"dog\", \"cat\" , \"dog\" , \"dog\" ]\n",
    "\n",
    "n_cat = 0 \n",
    "n_dog = 0 \n",
    "\n",
    "print(\"Number of cats in the list = \" , n_cat )\n",
    "print(\"Number of dogs in the list = \" , n_dog )\n",
    "\n"
   ]
  },
  {
   "cell_type": "markdown",
   "id": "524fe6a4",
   "metadata": {},
   "source": [
    "### Hints and notes\n",
    "\n",
    "* I would start by working by hand the number of dogs and cats.\n",
    "* See the code in the next cell for some hints. See also  https://www.w3schools.com/python/python_strings.asp\n",
    "* In supervised machine learning if you were training a model to recognize dogs and cast. You would have a number of images, some labeled as \"dog\" and others by \"cat\". So this is where this type of code is useful."
   ]
  },
  {
   "cell_type": "code",
   "execution_count": null,
   "id": "1d72964a",
   "metadata": {},
   "outputs": [],
   "source": [
    "if \"cat\" in \"The cat drank the milk\" :\n",
    "    print(\"Cat in the sentence\")\n",
    "    \n",
    "if \"dog\" in \"The cat drank the milk\" :\n",
    "    print(\"Dog in the sentence\")\n",
    "else:\n",
    "    print(\"Dog is NOT in the sentence\")\n",
    "    \n",
    "    "
   ]
  },
  {
   "cell_type": "markdown",
   "id": "7eafbc4c",
   "metadata": {},
   "source": [
    "##  Question 7 (Looping over a list)"
   ]
  },
  {
   "cell_type": "markdown",
   "id": "e274f611",
   "metadata": {},
   "source": [
    "Write some python to find the total number of numbers below\n",
    "40 for the list below.\n",
    "a list of numbers.  Test it on the list below:"
   ]
  },
  {
   "cell_type": "code",
   "execution_count": null,
   "id": "e5f4675e",
   "metadata": {},
   "outputs": [],
   "source": [
    "marks = [  23, 80, 56, 95, 78, 38, 68] "
   ]
  },
  {
   "cell_type": "markdown",
   "id": "6cc106b5",
   "metadata": {},
   "source": [
    "* Loop over elements in the list:  <https://www.geeksforgeeks.org/iterate-over-a-list-in-python/>\n",
    "\n",
    "* Use the **if** statement to compare numbers: <https://www.code4example.com/python/python-compare-two-numbers/>"
   ]
  },
  {
   "cell_type": "code",
   "execution_count": null,
   "id": "23bb5aae",
   "metadata": {},
   "outputs": [],
   "source": [
    "# Put your solution here\n",
    "marks = [  23, 80, 56, 95, 78, 38, 68] \n",
    "number_less_40 = 0 \n",
    "\n",
    "\n",
    "print(\"Number of marks below 40 = \" , number_less_40 )"
   ]
  },
  {
   "cell_type": "markdown",
   "id": "7914db0d",
   "metadata": {},
   "source": [
    "# ADVANCED Question 8 (inputting and storing numbers)"
   ]
  },
  {
   "cell_type": "markdown",
   "id": "010bcc06",
   "metadata": {},
   "source": [
    "Write a python code to read in some numbers and store them in a list. If a negative number is inputed then the program should stop and print the list of numbers entered."
   ]
  },
  {
   "cell_type": "code",
   "execution_count": null,
   "id": "be1e0488",
   "metadata": {},
   "outputs": [],
   "source": [
    "# Put your solution here\n",
    "x_ = input(\"Enter a number  \")\n",
    "x  = int(x_)"
   ]
  },
  {
   "cell_type": "markdown",
   "id": "ae604f12",
   "metadata": {},
   "source": [
    "For example, when I run my script I find:\n",
    "<div class=\"alert alert-block alert-info\">\n",
    " Input a number 10\n",
    "\n",
    " Input a number 15\n",
    "\n",
    " Input a number 3\n",
    "\n",
    " Input a number -1\n",
    "\n",
    " 10\n",
    "\n",
    " 15\n",
    "\n",
    " 3\n",
    "</div>"
   ]
  },
  {
   "cell_type": "code",
   "execution_count": null,
   "id": "cf712a6f",
   "metadata": {},
   "outputs": [],
   "source": []
  },
  {
   "cell_type": "code",
   "execution_count": null,
   "id": "98690eca",
   "metadata": {},
   "outputs": [],
   "source": []
  }
 ],
 "metadata": {
  "kernelspec": {
   "display_name": "Python 3 (ipykernel)",
   "language": "python",
   "name": "python3"
  },
  "language_info": {
   "codemirror_mode": {
    "name": "ipython",
    "version": 3
   },
   "file_extension": ".py",
   "mimetype": "text/x-python",
   "name": "python",
   "nbconvert_exporter": "python",
   "pygments_lexer": "ipython3",
   "version": "3.12.4"
  }
 },
 "nbformat": 4,
 "nbformat_minor": 5
}
