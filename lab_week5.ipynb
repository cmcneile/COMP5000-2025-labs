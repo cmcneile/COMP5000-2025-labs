{
 "cells": [
  {
   "cell_type": "markdown",
   "id": "8c5f9f59",
   "metadata": {},
   "source": [
    "# Computer Lab Exercises week 5"
   ]
  },
  {
   "cell_type": "markdown",
   "id": "b3f4f1ea",
   "metadata": {},
   "source": [
    "* These lab exercises are designed to introduce making jupyter notebooks interactive and using python to create GUIs\n",
    "* These exercises are **not** part of the assessment of the Module.\n",
    "* I will post the solutions roughly 1 week after this file has been uploaded to the DLE.\n",
    "* Please first watch and work through the linkedin learning video https://www.linkedin.com/learning-login/share?account=26140778&forceAccount=false&redirect=https%3A%2F%2Fwww.linkedin.com%2Flearning%2Fpython-gui-development-with-tkinter-2%3Ftrk%3Dshare_ent_url%26shareId%3DuhoH31WaTfWizUsBHk0RcA%253D%253D\n",
    "\n",
    "* See https://sites.google.com/view/pythonforstemstudents/home for a collection\n",
    "of links to information on python.\n",
    "\n",
    "* See the very complete documentation on tkinter at https://tkdocs.com/tutorial/index.html\n"
   ]
  },
  {
   "cell_type": "markdown",
   "id": "91d48015",
   "metadata": {},
   "source": [
    "On the University computers there were problems wih the ipwidgets library.\n",
    "\n",
    "Pawel's fix for pywidgets\n",
    "\n",
    "In a cell\n",
    "\n",
    "! pip install -U \"jupyterlab>=4.2,<5\" \"ipywidgets>=8.1\" \"jupyterlab-widgets>=3.0.11\" \"widgetsnbextension>=4\"\n",
    "! jupyter lab clean\n",
    "\n",
    "You then need to restart the kernel or restart the entire notebook\n"
   ]
  },
  {
   "cell_type": "markdown",
   "id": "1651e2f2",
   "metadata": {},
   "source": [
    "## Question 1\n",
    "\n"
   ]
  },
  {
   "cell_type": "markdown",
   "id": "87b28ff0",
   "metadata": {},
   "source": [
    "##  Question 1a)  Working with Tkinter\n"
   ]
  },
  {
   "cell_type": "markdown",
   "id": "937fdc06",
   "metadata": {},
   "source": [
    "* Modify the script below so that there is an additional column (so the GUI looks like the picture below).\n",
    "\n",
    "\n",
    "![GeomManager](https://github.com/cmcneile/COMP5000-2023-lab/blob/main/geom_manage.png?raw=true)"
   ]
  },
  {
   "cell_type": "code",
   "execution_count": null,
   "id": "d13a242f",
   "metadata": {},
   "outputs": [],
   "source": [
    "import tkinter as tk\n",
    "master = tk.Tk()\n",
    "tk.Label(master, \n",
    "         text=\"Left top\").grid(row=0, column=0)\n",
    "tk.Label(master, \n",
    "         text=\"Left bottom\").grid(row=1,column=0)\n",
    "tk.mainloop()\n"
   ]
  },
  {
   "cell_type": "markdown",
   "id": "c7e0824c",
   "metadata": {},
   "source": [
    "##  Questions about pywidgets\n",
    "*  See the documentation https://ipywidgets.readthedocs.io/en/7.6.2/index.html"
   ]
  },
  {
   "cell_type": "markdown",
   "id": "795961ac",
   "metadata": {},
   "source": [
    "##  Question 2a\n",
    "\n",
    "* Modify the code below so the square of the number is calculated\n",
    "* The documentation for interact is at: https://ipywidgets.readthedocs.io/en/stable/examples/Using%20Interact.html"
   ]
  },
  {
   "cell_type": "code",
   "execution_count": null,
   "id": "7f075d1e",
   "metadata": {},
   "outputs": [],
   "source": [
    "from ipywidgets import interact\n",
    "def f(x):\n",
    "    return x"
   ]
  },
  {
   "cell_type": "code",
   "execution_count": null,
   "id": "7c07875c",
   "metadata": {},
   "outputs": [],
   "source": [
    "interact(f, x=10);"
   ]
  },
  {
   "cell_type": "markdown",
   "id": "41d3281c",
   "metadata": {},
   "source": [
    "##  Question 2b \n",
    "* The code below creates blue and red buttons\n",
    "* Modify the code to add green and black to the option"
   ]
  },
  {
   "cell_type": "code",
   "execution_count": null,
   "id": "f9b5b893",
   "metadata": {},
   "outputs": [],
   "source": [
    "import ipywidgets as widgets\n",
    "\n",
    "color_buttons = widgets.ToggleButtons(\n",
    "    options=['blue', 'red'],\n",
    "    description='Color:',\n",
    ")\n",
    "color_buttons"
   ]
  },
  {
   "cell_type": "code",
   "execution_count": null,
   "id": "966609d7",
   "metadata": {},
   "outputs": [],
   "source": [
    "print(\"color = \" , color_buttons.value )"
   ]
  },
  {
   "cell_type": "markdown",
   "id": "7b66a4cf",
   "metadata": {},
   "source": [
    "##  Question 2c\n",
    "* The code below plots a histogram of some random data\n",
    "* The colour of the data is black. Modify the code so that color can selected interactivly using pywidgets"
   ]
  },
  {
   "cell_type": "code",
   "execution_count": null,
   "id": "3186d02d",
   "metadata": {},
   "outputs": [],
   "source": [
    "import matplotlib.pyplot as plt\n",
    "import numpy as np\n",
    "# make data\n",
    "np.random.seed(1)\n",
    "x = 4 + np.random.normal(0, 1.5, 200)\n",
    "\n",
    "plt.hist(x, bins=8, linewidth=0.5, color=\"black\")\n",
    "plt.show()"
   ]
  },
  {
   "cell_type": "markdown",
   "id": "e235b6b9",
   "metadata": {},
   "source": [
    "##  Question 2d\n",
    "* The aim of this question is to create an interactive plot\n",
    "* The questions uses the interact function in pywidgets  https://ipywidgets.readthedocs.io/en/7.6.2/examples/Using%20Interact.html"
   ]
  },
  {
   "cell_type": "code",
   "execution_count": null,
   "id": "2168a92a",
   "metadata": {},
   "outputs": [],
   "source": [
    "#  create some random points to plot\n",
    "import ipywidgets as widgets\n",
    "\n",
    "import numpy as np\n",
    "from matplotlib import pyplot as plt\n",
    "x = np.random.uniform(0, 5, size=100)\n",
    "ep = np.random.normal(size=100)\n",
    "\n",
    "y = 2*x + ep + 1\n",
    "x_values = np.linspace(0, 5, 1000)"
   ]
  },
  {
   "cell_type": "code",
   "execution_count": null,
   "id": "be943904",
   "metadata": {},
   "outputs": [],
   "source": [
    "\n",
    "\n",
    "def slope_viz(m=1):\n",
    "    \"\"\"\n",
    "    Plot the random data\n",
    "    Plot a straight line y = a = mx\n",
    "    for the intercept a and slope m\n",
    "    \"\"\"\n",
    "    a = 0.5\n",
    "    plt.scatter(x, y)\n",
    "    x0 = 0\n",
    "    x1 = 5\n",
    "    y0 = a\n",
    "    y1 = a + m*x1\n",
    "    \n",
    "    plt.plot([x0,x1], [y0,y1], lw=3, color='black')\n",
    "    \n",
    "    plt.ylim(-1.2, 12.2);# Solution\n",
    "\n",
    "slope_viz(m=1)"
   ]
  },
  {
   "cell_type": "markdown",
   "id": "d3a11e61",
   "metadata": {},
   "source": [
    "The plot can be made interactive using pywidgets"
   ]
  },
  {
   "cell_type": "code",
   "execution_count": null,
   "id": "9e7a7eef",
   "metadata": {},
   "outputs": [],
   "source": [
    "widgets.interact(slope_viz, m=(0.2, 5, 0.2));"
   ]
  },
  {
   "cell_type": "markdown",
   "id": "942a1fd1",
   "metadata": {},
   "source": [
    "Modify the code so that the intercept parameter a can be varied.  The final plot should look like the plot below\n",
    "\n",
    "\n",
    "![2lide](https://github.com/cmcneile/COMP5000-2023-lab/blob/main/2slider.png?raw=true)"
   ]
  },
  {
   "cell_type": "markdown",
   "id": "338d91bc",
   "metadata": {},
   "source": [
    "##  Question 3   Using  a GUI to create a plot"
   ]
  },
  {
   "cell_type": "markdown",
   "id": "d454eb8f",
   "metadata": {},
   "source": [
    "\n",
    "The aim of question is to create a python script with\n",
    "a radio button. When the radio button is pressed, a bar plot is\n",
    "plotted. See figure\n",
    "\n",
    "![GUIbarplot](https://github.com/cmcneile/COMP5000-2023-lab/blob/main/gui_barplot.png?raw=true)\n",
    "\n",
    "\n",
    "* The idea is too combine the plotting code and GUI Checkbutton code below"
   ]
  },
  {
   "cell_type": "code",
   "execution_count": null,
   "id": "b048902e",
   "metadata": {},
   "outputs": [],
   "source": [
    "# plotting script\n",
    "import matplotlib.pyplot as plt\n",
    "x_pos  = [ 0 , 1 , 2 , 3 , 4] \n",
    "bars   = [ \"Dent\" , \"Scratch\" , \"Specifications\" , \"Other\"  , \"Smudge\" ] \n",
    "frequency = [ 11, 7 , 11 , 7 , 4 ] \n",
    "plt.bar(x_pos, frequency)\n",
    "plt.xticks(x_pos, bars)\n",
    "plt.ylabel('Frequency')\n",
    "\n",
    "plt.show()"
   ]
  },
  {
   "cell_type": "code",
   "execution_count": null,
   "id": "694fe93c",
   "metadata": {},
   "outputs": [],
   "source": [
    "# GUI Checkbutton\n",
    "\n",
    "# Modify this script to solve the problem\n",
    "\n",
    "import matplotlib\n",
    "matplotlib.use(\"TkAgg\")\n",
    "from matplotlib import pyplot as plt\n",
    "\n",
    "import tkinter as tk\n",
    "from _cffi_backend import callback\n",
    " \n",
    "def callBackFunc():\n",
    "     print(\"Oh. I'm clicked\" , chkValue.get())\n",
    "   \n",
    "root = tk.Tk() \n",
    "root.geometry('250x200')\n",
    "\n",
    "chkValue = tk.BooleanVar() \n",
    "chkValue.set(False)\n",
    " \n",
    "chkExample = tk.Checkbutton(root, text='Barplot', \n",
    "                            var=chkValue, command=callBackFunc) \n",
    "chkExample.grid(column=0, row=0)\n",
    "\n",
    "root.mainloop()\n"
   ]
  },
  {
   "cell_type": "code",
   "execution_count": null,
   "id": "af42de17",
   "metadata": {},
   "outputs": [],
   "source": []
  },
  {
   "cell_type": "markdown",
   "id": "1fef3aa0",
   "metadata": {},
   "source": [
    "##  Question 4  (Advanced) creating an interactive plot\n",
    "\n",
    "This is an example of creating an interactive plot\n",
    "\n",
    "We will load in a data set about penguins from\n",
    "\n",
    "* https://github.com/allisonhorst/palmerpenguins/blob/main/README.md\n",
    "* https://www.kaggle.com/datasets/parulpandey/palmer-archipelago-antarctica-penguin-data?resource=download\n",
    "\n",
    "and create an interactive graph.\n",
    "\n",
    "NOTE\n",
    "\n",
    "* sometimes I had to restart the kernel to get the example to run.\n",
    "* The example uses the seaborn graphics library https://seaborn.pydata.org/ that may need to be installed\n"
   ]
  },
  {
   "cell_type": "code",
   "execution_count": 1,
   "id": "ab9c4496",
   "metadata": {},
   "outputs": [],
   "source": [
    "import pandas as pd\n",
    "import ipywidgets as widgets\n",
    "from matplotlib import pyplot as plt\n",
    "import seaborn as sns"
   ]
  },
  {
   "cell_type": "markdown",
   "id": "e2c1a2a0",
   "metadata": {},
   "source": [
    "This uses the data set penguins_size.csv (available from the DLE or kaggle)\n",
    "\n",
    "The file should be in the same directory as the notebook"
   ]
  },
  {
   "cell_type": "code",
   "execution_count": 2,
   "id": "f27753a2",
   "metadata": {},
   "outputs": [],
   "source": [
    "\n",
    "\n",
    "penguins = pd.read_csv('penguins_size.csv')\n"
   ]
  },
  {
   "cell_type": "code",
   "execution_count": 3,
   "id": "a4c28b18",
   "metadata": {},
   "outputs": [],
   "source": [
    "def eda_widget(island, species):\n",
    "    sex = 'MALE'\n",
    "    # Filter the dataset based on the selected widget values\n",
    "    df = penguins[(penguins['sex'] == sex) & (penguins['island'] == island) & (penguins['species'] == species)]\n",
    "\n",
    "    # Compute some summary statistics\n",
    "    num_rows = len(df)\n",
    "    mean_body_mass = df['body_mass_g'].mean()\n",
    "    median_body_mass = df['body_mass_g'].median()\n",
    "\n",
    "    # Create some plots\n",
    "    fig, axs = plt.subplots(ncols=2, figsize=(12, 6))\n",
    "    sns.histplot(data=df, x='culmen_length_mm', hue='sex', ax=axs[0])\n",
    "    axs[0].set_title('Distribution of culmen length by sex')\n",
    "    sns.scatterplot(data=df, x='culmen_depth_mm', y='body_mass_g', hue='species', ax=axs[1])\n",
    "    axs[1].set_title('Scatter plot of culmen depth vs. body mass by species')\n",
    "    plt.show()\n",
    "\n",
    "    # Display the summary statistics\n",
    "    print(f\"Number of penguins: {num_rows}\")\n",
    "    print(f\"Mean body mass: {mean_body_mass:.2f} g\")\n",
    "    print(f\"Median body mass: {median_body_mass:.2f} g\")"
   ]
  },
  {
   "cell_type": "code",
   "execution_count": 4,
   "id": "b3364901",
   "metadata": {},
   "outputs": [],
   "source": [
    "# create some widgets\n",
    "\n",
    "island_widget = widgets.Dropdown(options=['Biscoe', 'Dream', 'Torgersen'], description='Island:')\n",
    "species_widget = widgets.Dropdown(options=['Adelie', 'Chinstrap', 'Gentoo'], description='Species:')"
   ]
  },
  {
   "cell_type": "markdown",
   "id": "ed09b65c",
   "metadata": {},
   "source": [
    "The data plotted can be modified by selecting data via the buttons"
   ]
  },
  {
   "cell_type": "code",
   "execution_count": 6,
   "id": "1b4136e0",
   "metadata": {},
   "outputs": [
    {
     "data": {
      "image/png": "[encoded data removed]",
      "text/plain": [
       "<Figure size 1200x600 with 2 Axes>"
      ]
     },
     "metadata": {},
     "output_type": "display_data"
    },
    {
     "data": {
      "application/vnd.jupyter.widget-view+json": {
       "model_id": "4ddac764b01246ee9ea6c5428b588a63",
       "version_major": 2,
       "version_minor": 0
      },
      "text/plain": [
       "interactive(children=(Dropdown(description='Island:', index=1, options=('Biscoe', 'Dream', 'Torgersen'), value…"
      ]
     },
     "metadata": {},
     "output_type": "display_data"
    }
   ],
   "source": [
    "widgets.interact(eda_widget,island=island_widget, species=species_widget);"
   ]
  },
  {
   "cell_type": "markdown",
   "id": "bfeb2c70",
   "metadata": {},
   "source": [
    "The question is modify the above interactive plot so that the sex (\"MALE\" or \"FEMALE is selected \" ) of the penguin is selected.\n",
    "\n",
    "The final plot should look like:\n",
    "\n",
    "![InterPlot](https://github.com/cmcneile/COMP5000-2025-labs/blob/main/inter.png?raw=true)\n",
    "\n"
   ]
  },
  {
   "cell_type": "code",
   "execution_count": null,
   "id": "3ebe3de4",
   "metadata": {},
   "outputs": [],
   "source": []
  }
 ],
 "metadata": {
  "kernelspec": {
   "display_name": "Python 3 (ipykernel)",
   "language": "python",
   "name": "python3"
  },
  "language_info": {
   "codemirror_mode": {
    "name": "ipython",
    "version": 3
   },
   "file_extension": ".py",
   "mimetype": "text/x-python",
   "name": "python",
   "nbconvert_exporter": "python",
   "pygments_lexer": "ipython3",
   "version": "3.12.2"
  }
 },
 "nbformat": 4,
 "nbformat_minor": 5
}
