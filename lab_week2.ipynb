{
 "cells": [
  {
   "cell_type": "markdown",
   "id": "8c5f9f59",
   "metadata": {},
   "source": [
    "# Computer Lab Exercises week 2 "
   ]
  },
  {
   "cell_type": "markdown",
   "id": "b3f4f1ea",
   "metadata": {},
   "source": [
    "* These lab exercises are designed to introduce the basic syntax of python.\n",
    "\n",
    "* These exercises are **not** part of the assessment of the Module.\n",
    "* I will post the solutions roughly 1 week after this file has been uploaded to the DLE.\n",
    "* Please first watch and work through the linkedin learning video\n",
    "* Please note that pasting python from pdf can sometimes cause problems. For example quotation marks can sometimes be converted incorrectly, so then running python will cause errors.\n",
    "\n",
    "* See https://sites.google.com/view/pythonforstemstudents/home for a collection\n",
    "of links to information on python.\n"
   ]
  },
  {
   "cell_type": "markdown",
   "id": "1651e2f2",
   "metadata": {},
   "source": [
    "## Question 1\n",
    "\n",
    "Below are some questions on basic syntax of string\n",
    "*  The link https://www.w3schools.com/python/python_strings.asp has some useful background information"
   ]
  },
  {
   "cell_type": "markdown",
   "id": "24d844e8",
   "metadata": {},
   "source": [
    "##  Question 1a)  \n",
    "Write some python code to combne the two strings in variables a and b to produce \"data_science\""
   ]
  },
  {
   "cell_type": "code",
   "execution_count": null,
   "id": "e489a9d0",
   "metadata": {},
   "outputs": [],
   "source": [
    "# Put your solution here\n",
    "a = \"data\" \n",
    "b = \"science\"\n",
    "ans = a\n",
    "print(\"The answer is \" , ans)"
   ]
  },
  {
   "cell_type": "markdown",
   "id": "87b28ff0",
   "metadata": {},
   "source": [
    "##  Question 1b) \n",
    "Use a string method (see https://www.w3schools.com/python/python_ref_string.asp ) to convert the string in the variable xxx, so that each word begins with a capitol letter."
   ]
  },
  {
   "cell_type": "code",
   "execution_count": null,
   "id": "6d5e9cdc",
   "metadata": {},
   "outputs": [],
   "source": [
    "xxx = \"post your vacancy today find data Scientists for your job\"\n",
    "\n",
    "# moodify your code here\n",
    "yyy = xxx\n",
    "print(\"Titled \" , yyy)\n"
   ]
  },
  {
   "cell_type": "markdown",
   "id": "87e2b291",
   "metadata": {},
   "source": [
    "The output from your code should look like:\n",
    "\n",
    "Post Your Vacancy Today Find Data Scientists For Your Job"
   ]
  },
  {
   "cell_type": "code",
   "execution_count": null,
   "id": "8edf14f3",
   "metadata": {},
   "outputs": [],
   "source": []
  },
  {
   "cell_type": "markdown",
   "id": "8968282f",
   "metadata": {},
   "source": [
    "## Question 1c)\n",
    "Convert the string below into a list of words (using the example in lecture 2, or another method) and print the list of words out\n"
   ]
  },
  {
   "cell_type": "code",
   "execution_count": null,
   "id": "a3498f2f",
   "metadata": {},
   "outputs": [],
   "source": [
    "xxx = \"post your vacancy today find data Scientists for your job\"\n",
    "#  put your solution here\n",
    "\n"
   ]
  },
  {
   "cell_type": "markdown",
   "id": "84c2e03e",
   "metadata": {},
   "source": [
    "The output should look like\n",
    "\n",
    "['post', 'your', 'vacancy', 'today', 'find', 'data', 'Scientists', 'for', 'your', 'job']\n"
   ]
  },
  {
   "cell_type": "markdown",
   "id": "4af2a442",
   "metadata": {},
   "source": [
    "## Question 2  \n",
    "Some basic manipulations of the dictionary data type.\n",
    "* See  https://www.w3schools.com/python/python_dictionaries.asp for background"
   ]
  },
  {
   "cell_type": "markdown",
   "id": "52245496",
   "metadata": {},
   "source": [
    "## Question 2a\n",
    "\n",
    "* Modify the code below to include student4 as \"Colin\"\n",
    "* Write a loop so that all the names are writen out\n"
   ]
  },
  {
   "cell_type": "code",
   "execution_count": null,
   "id": "b59b4d89",
   "metadata": {},
   "outputs": [],
   "source": [
    "# Modify the code below to complete the task\n",
    "\n",
    "first_name = {\n",
    "  \"student1\": \"Roger\",\n",
    "  \"student2\": \"Jane\",\n",
    "  \"student3\":  \"Phil\",\n",
    "}\n",
    "\n",
    "print(first_name[\"student1\"])\n",
    "\n"
   ]
  },
  {
   "cell_type": "markdown",
   "id": "8adbfdea",
   "metadata": {},
   "source": [
    "The output should look like:\n",
    "\n",
    "student1 Roger<br>\n",
    "student2 Jane<br>\n",
    "student3 Phil<br>\n",
    "student4 Colin<br>\n",
    "    "
   ]
  },
  {
   "cell_type": "markdown",
   "id": "c9d7445d",
   "metadata": {},
   "source": [
    "##  Question 3 (string manipulation)"
   ]
  },
  {
   "cell_type": "markdown",
   "id": "b726dda0",
   "metadata": {},
   "source": [
    "You are asked to create user names for a list of users by combining their first name and second names, both in lower case. For example for William Wilson the user name would be williamwilson. \n",
    "\n",
    "Write a python code to use as input the lists of strings."
   ]
  },
  {
   "cell_type": "code",
   "execution_count": null,
   "id": "c09161d9",
   "metadata": {},
   "outputs": [],
   "source": [
    "# Modify this call to create your solution\n",
    "\n",
    "first_name = [  \"William\" , \"James\" , \"Logan\" , \"Benjamin\" ]\n",
    "\n",
    "second_name = [ \"Wilson\" , \"Davies\" , \"Walker\" , \"Hall\" ] \n",
    "\n",
    "# Below is a hint\n",
    "for i in range(0, len(first_name) ):\n",
    "    print(i, first_name[i])"
   ]
  },
  {
   "cell_type": "markdown",
   "id": "3b5716a1",
   "metadata": {},
   "source": [
    "to create the usernames:\n",
    "\n",
    "williamwilson<br>\n",
    "jamesdavies<br>\n",
    "loganwalker<br>\n",
    "benjaminhall</br>\n"
   ]
  },
  {
   "cell_type": "markdown",
   "id": "8679e00c",
   "metadata": {},
   "source": [
    "**Note**  \n",
    "\n",
    "A more elegant solution uses zip. See this example: https://www.python-engineer.com/posts/zip-for-loop/\n"
   ]
  },
  {
   "cell_type": "markdown",
   "id": "27e9787a",
   "metadata": {},
   "source": [
    "##  Question 4 (counting words)\n",
    "\n",
    "Use python dictionary to count the number of words\n",
    "in the string **text** in the next cell. \n",
    "\n",
    "For example, the partial output from my python code is\n",
    "\n",
    "and 1<br>\n",
    "everyone 1<br>\n",
    "bomb 3<br>\n",
    "\n",
    "(See the hint in the cell afterwards that uses a dictionary to count the\n",
    "number of cats and dogs.)\n",
    "\n",
    "This would be the starting point of a machine learning project. The\n",
    "security services might be interested in the multiple use of the word\n",
    "\"bomb\" in the message, but might be less concerned because \"bomb\" and\n",
    "\"film\" occur in the same message.\n",
    "\n",
    "See the hint in the next cell"
   ]
  },
  {
   "cell_type": "code",
   "execution_count": null,
   "id": "b380575f",
   "metadata": {},
   "outputs": [],
   "source": [
    "# Put your solution here\n",
    "text = \"\"\"I watched a great film last night called Speed. \n",
    "There was a bomb on a bus. If the bus \n",
    "slowed down, then the bomb exploded and\n",
    "everyone died. The guy who put the bomb on the bus was crazy.\"\"\"\n",
    "\n",
    "print (text)\n"
   ]
  },
  {
   "cell_type": "markdown",
   "id": "afab510f",
   "metadata": {},
   "source": [
    "The page\n",
    "https://www.w3schools.com/python/python_dictionaries.asp \n",
    "contains many examples of the python dictionary type.\n",
    "\n",
    "The python code below may give you some ideas on how\n",
    "to solve the problem."
   ]
  },
  {
   "cell_type": "code",
   "execution_count": null,
   "id": "f1003fdd",
   "metadata": {},
   "outputs": [],
   "source": [
    "#  Basic example of using dictionary to count\n",
    "#  strings\n",
    "\n",
    "house_pets = [ \"dogs\" , \"cats\" , \"dogs\" , \"dogs\" ] \n",
    "\n",
    "pets = dict()\n",
    "#  create an empty dictionary\n",
    "\n",
    "for animal in house_pets :\n",
    "  print(animal)\n",
    "  if animal in pets: \n",
    "    # if animal is stored in pets then add 1\n",
    "    pets[animal] += 1 \n",
    "  else:\n",
    "    # if the animal string is not stored, then set the counter to 1\n",
    "    pets[animal] = 1 \n",
    "    \n",
    "print(\"Number of dogs = \" , pets[\"dogs\"] )\n",
    "print(\"Number of cats = \" , pets[\"cats\"] )\n"
   ]
  },
  {
   "cell_type": "code",
   "execution_count": null,
   "id": "c1d8efea",
   "metadata": {},
   "outputs": [],
   "source": []
  },
  {
   "cell_type": "markdown",
   "id": "7914db0d",
   "metadata": {},
   "source": [
    "# ADVANCED Question 5 (Statistical analysis with python)"
   ]
  },
  {
   "cell_type": "markdown",
   "id": "010bcc06",
   "metadata": {},
   "source": [
    "The kaggle site (https://www.kaggle.com) makes available many data sets.\n",
    "One interesting data set is of Reports and files on Major Crimes and\n",
    "Location from the Toronto Police.\n",
    "https://www.kaggle.com/kapastor/toronto-police-data-crime-rates-by-neighbourhood\n",
    "\n",
    "The file **88MCI\\_2014\\_to\\_2019.csv** available from the above link\n",
    "and the DLE contains a spreadsheet with the data about crimes in\n",
    "Toronto \n",
    "\n",
    "The python code below contains some\n",
    "code to load in the data from the spreadsheet."
   ]
  },
  {
   "cell_type": "code",
   "execution_count": null,
   "id": "be1e0488",
   "metadata": {},
   "outputs": [],
   "source": [
    "import csv\n",
    "import sys\n",
    "import numpy as np\n",
    "\n",
    "name = \"MCI_2014_to_2019.csv\"\n",
    "\n",
    "with open(name) as csvfile:\n",
    "    readCSV = csv.reader(csvfile, delimiter=',')\n",
    "    next(readCSV, None)  # skip the headers\n",
    "    for row in readCSV:\n",
    "       print(row[6], row[7], row[8], row[9])\n",
    "\n"
   ]
  },
  {
   "cell_type": "markdown",
   "id": "ae604f12",
   "metadata": {},
   "source": [
    "Under the **offence** columns there are different types of\n",
    "Assaults recorded. Write some python code to read in the file\n",
    "and count the number of times each type of assault occurs. I would use Excel\n",
    "to look at the csv file.\n",
    "\n",
    "For example, there are 18168 \"Assault with Weapon\"  recorded by the \n",
    "Toronto Police in the above file.\n",
    "\n",
    "How to proceed\n",
    "\n",
    "* Run the code. Note that the file MCI_2014_to_2019.csv must be in the same directory as the jupyter notebook\n",
    "* Look at the csv file using Excel to understand the structure.\n",
    "* Try to understand the code. You can paste the above code into ChatGPT and type: **Explain the python code below**\n",
    "* Develop a plan to solve the problem\n",
    "\n"
   ]
  },
  {
   "cell_type": "code",
   "execution_count": null,
   "id": "cf712a6f",
   "metadata": {},
   "outputs": [],
   "source": []
  }
 ],
 "metadata": {
  "kernelspec": {
   "display_name": "Python 3 (ipykernel)",
   "language": "python",
   "name": "python3"
  },
  "language_info": {
   "codemirror_mode": {
    "name": "ipython",
    "version": 3
   },
   "file_extension": ".py",
   "mimetype": "text/x-python",
   "name": "python",
   "nbconvert_exporter": "python",
   "pygments_lexer": "ipython3",
   "version": "3.12.2"
  }
 },
 "nbformat": 4,
 "nbformat_minor": 5
}
